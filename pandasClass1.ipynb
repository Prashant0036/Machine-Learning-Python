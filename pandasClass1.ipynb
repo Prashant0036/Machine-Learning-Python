{
 "cells": [
  {
   "cell_type": "code",
   "execution_count": 1,
   "id": "4ced8508-97c6-4742-893c-499325392f5b",
   "metadata": {},
   "outputs": [],
   "source": [
    "import pandas as pd\n",
    "df=pd.read_csv(\"sample2.csv\") #df=pd.read_csv(\"sample2.csv\",skiprows=1,2,3) To skip rows from csv file "
   ]
  },
  {
   "cell_type": "code",
   "execution_count": 2,
   "id": "a62f0412-0bf1-49cb-b157-b5b156577833",
   "metadata": {},
   "outputs": [
    {
     "data": {
      "text/html": [
       "<div>\n",
       "<style scoped>\n",
       "    .dataframe tbody tr th:only-of-type {\n",
       "        vertical-align: middle;\n",
       "    }\n",
       "\n",
       "    .dataframe tbody tr th {\n",
       "        vertical-align: top;\n",
       "    }\n",
       "\n",
       "    .dataframe thead th {\n",
       "        text-align: right;\n",
       "    }\n",
       "</style>\n",
       "<table border=\"1\" class=\"dataframe\">\n",
       "  <thead>\n",
       "    <tr style=\"text-align: right;\">\n",
       "      <th></th>\n",
       "      <th>SR.</th>\n",
       "      <th>NAME</th>\n",
       "      <th>GENDER</th>\n",
       "      <th>AGE</th>\n",
       "      <th>DATE</th>\n",
       "      <th>COUNTRY</th>\n",
       "    </tr>\n",
       "  </thead>\n",
       "  <tbody>\n",
       "    <tr>\n",
       "      <th>0</th>\n",
       "      <td>1.0</td>\n",
       "      <td>Dett</td>\n",
       "      <td>Male</td>\n",
       "      <td>18.0</td>\n",
       "      <td>21/05/2015</td>\n",
       "      <td>Great Britain</td>\n",
       "    </tr>\n",
       "    <tr>\n",
       "      <th>1</th>\n",
       "      <td>2.0</td>\n",
       "      <td>Nern</td>\n",
       "      <td>Female</td>\n",
       "      <td>19.0</td>\n",
       "      <td>15/10/2017</td>\n",
       "      <td>France</td>\n",
       "    </tr>\n",
       "    <tr>\n",
       "      <th>2</th>\n",
       "      <td>3.0</td>\n",
       "      <td>Kallsie</td>\n",
       "      <td>Male</td>\n",
       "      <td>20.0</td>\n",
       "      <td>16/08/2016</td>\n",
       "      <td>France</td>\n",
       "    </tr>\n",
       "    <tr>\n",
       "      <th>3</th>\n",
       "      <td>4.0</td>\n",
       "      <td>Siuau</td>\n",
       "      <td>Female</td>\n",
       "      <td>21.0</td>\n",
       "      <td>21/05/2015</td>\n",
       "      <td>Great Britain</td>\n",
       "    </tr>\n",
       "    <tr>\n",
       "      <th>4</th>\n",
       "      <td>5.0</td>\n",
       "      <td>Shennice</td>\n",
       "      <td>Male</td>\n",
       "      <td>22.0</td>\n",
       "      <td>21/05/2016</td>\n",
       "      <td>France</td>\n",
       "    </tr>\n",
       "    <tr>\n",
       "      <th>...</th>\n",
       "      <td>...</td>\n",
       "      <td>...</td>\n",
       "      <td>...</td>\n",
       "      <td>...</td>\n",
       "      <td>...</td>\n",
       "      <td>...</td>\n",
       "    </tr>\n",
       "    <tr>\n",
       "      <th>15718</th>\n",
       "      <td>NaN</td>\n",
       "      <td>NaN</td>\n",
       "      <td>NaN</td>\n",
       "      <td>NaN</td>\n",
       "      <td>NaN</td>\n",
       "      <td>NaN</td>\n",
       "    </tr>\n",
       "    <tr>\n",
       "      <th>15719</th>\n",
       "      <td>NaN</td>\n",
       "      <td>NaN</td>\n",
       "      <td>NaN</td>\n",
       "      <td>NaN</td>\n",
       "      <td>NaN</td>\n",
       "      <td>NaN</td>\n",
       "    </tr>\n",
       "    <tr>\n",
       "      <th>15720</th>\n",
       "      <td>NaN</td>\n",
       "      <td>NaN</td>\n",
       "      <td>NaN</td>\n",
       "      <td>NaN</td>\n",
       "      <td>NaN</td>\n",
       "      <td>NaN</td>\n",
       "    </tr>\n",
       "    <tr>\n",
       "      <th>15721</th>\n",
       "      <td>NaN</td>\n",
       "      <td>NaN</td>\n",
       "      <td>NaN</td>\n",
       "      <td>NaN</td>\n",
       "      <td>NaN</td>\n",
       "      <td>NaN</td>\n",
       "    </tr>\n",
       "    <tr>\n",
       "      <th>15722</th>\n",
       "      <td>NaN</td>\n",
       "      <td>NaN</td>\n",
       "      <td>NaN</td>\n",
       "      <td>NaN</td>\n",
       "      <td>NaN</td>\n",
       "      <td>NaN</td>\n",
       "    </tr>\n",
       "  </tbody>\n",
       "</table>\n",
       "<p>15723 rows × 6 columns</p>\n",
       "</div>"
      ],
      "text/plain": [
       "       SR.      NAME  GENDER   AGE       DATE         COUNTRY\n",
       "0      1.0      Dett    Male  18.0  21/05/2015  Great Britain\n",
       "1      2.0     Nern   Female  19.0  15/10/2017         France\n",
       "2      3.0   Kallsie    Male  20.0  16/08/2016         France\n",
       "3      4.0     Siuau  Female  21.0  21/05/2015  Great Britain\n",
       "4      5.0  Shennice    Male  22.0  21/05/2016         France\n",
       "...    ...       ...     ...   ...         ...            ...\n",
       "15718  NaN       NaN     NaN   NaN         NaN            NaN\n",
       "15719  NaN       NaN     NaN   NaN         NaN            NaN\n",
       "15720  NaN       NaN     NaN   NaN         NaN            NaN\n",
       "15721  NaN       NaN     NaN   NaN         NaN            NaN\n",
       "15722  NaN       NaN     NaN   NaN         NaN            NaN\n",
       "\n",
       "[15723 rows x 6 columns]"
      ]
     },
     "execution_count": 2,
     "metadata": {},
     "output_type": "execute_result"
    }
   ],
   "source": [
    "df"
   ]
  },
  {
   "cell_type": "markdown",
   "id": "3c08d621-c42f-4ba4-914d-46755eedbbd0",
   "metadata": {},
   "source": [
    "You can skip this header or tell column datatype by just passing some number of arguments in read_csv() function."
   ]
  },
  {
   "cell_type": "markdown",
   "id": "1e5cdfbb",
   "metadata": {},
   "source": [
    "> when you don't have header in your csv file."
   ]
  },
  {
   "cell_type": "markdown",
   "id": "5f86f9b2",
   "metadata": {},
   "source": [
    "df=pd.read_csv(\"sample2.csv\",header=None,names=[\"Col1\",\"Col2\",\"Col3\"]) "
   ]
  },
  {
   "cell_type": "markdown",
   "id": "f0b36260",
   "metadata": {},
   "source": [
    "> If you want to read number of rows from a csv file"
   ]
  },
  {
   "cell_type": "code",
   "execution_count": 3,
   "id": "671da75d",
   "metadata": {},
   "outputs": [
    {
     "data": {
      "text/html": [
       "<div>\n",
       "<style scoped>\n",
       "    .dataframe tbody tr th:only-of-type {\n",
       "        vertical-align: middle;\n",
       "    }\n",
       "\n",
       "    .dataframe tbody tr th {\n",
       "        vertical-align: top;\n",
       "    }\n",
       "\n",
       "    .dataframe thead th {\n",
       "        text-align: right;\n",
       "    }\n",
       "</style>\n",
       "<table border=\"1\" class=\"dataframe\">\n",
       "  <thead>\n",
       "    <tr style=\"text-align: right;\">\n",
       "      <th></th>\n",
       "      <th>SR.</th>\n",
       "      <th>NAME</th>\n",
       "      <th>GENDER</th>\n",
       "      <th>AGE</th>\n",
       "      <th>DATE</th>\n",
       "      <th>COUNTRY</th>\n",
       "    </tr>\n",
       "  </thead>\n",
       "  <tbody>\n",
       "    <tr>\n",
       "      <th>0</th>\n",
       "      <td>1</td>\n",
       "      <td>Dett</td>\n",
       "      <td>Male</td>\n",
       "      <td>18</td>\n",
       "      <td>21/05/2015</td>\n",
       "      <td>Great Britain</td>\n",
       "    </tr>\n",
       "    <tr>\n",
       "      <th>1</th>\n",
       "      <td>2</td>\n",
       "      <td>Nern</td>\n",
       "      <td>Female</td>\n",
       "      <td>19</td>\n",
       "      <td>15/10/2017</td>\n",
       "      <td>France</td>\n",
       "    </tr>\n",
       "    <tr>\n",
       "      <th>2</th>\n",
       "      <td>3</td>\n",
       "      <td>Kallsie</td>\n",
       "      <td>Male</td>\n",
       "      <td>20</td>\n",
       "      <td>16/08/2016</td>\n",
       "      <td>France</td>\n",
       "    </tr>\n",
       "  </tbody>\n",
       "</table>\n",
       "</div>"
      ],
      "text/plain": [
       "   SR.     NAME  GENDER  AGE       DATE         COUNTRY\n",
       "0    1     Dett    Male   18  21/05/2015  Great Britain\n",
       "1    2    Nern   Female   19  15/10/2017         France\n",
       "2    3  Kallsie    Male   20  16/08/2016         France"
      ]
     },
     "execution_count": 3,
     "metadata": {},
     "output_type": "execute_result"
    }
   ],
   "source": [
    "df_3rows=pd.read_csv(\"sample2.csv\",nrows=3)  \n",
    "df_3rows"
   ]
  },
  {
   "cell_type": "markdown",
   "id": "f81caf60",
   "metadata": {},
   "source": [
    "you can just mention n.a., not available or any other value which you want to replace with NaN"
   ]
  },
  {
   "cell_type": "code",
   "execution_count": 4,
   "id": "147945ef",
   "metadata": {},
   "outputs": [],
   "source": [
    "df_3rows=pd.read_csv(\"sample2.csv\",na_values=[\"n.a.\",\"not available\"])  "
   ]
  },
  {
   "cell_type": "code",
   "execution_count": 5,
   "id": "da428b35",
   "metadata": {},
   "outputs": [
    {
     "data": {
      "text/plain": [
       "'df12 = pd. read_csv (\"stock_data.csv\", na_values={\\n\\'eps\\': [\"not available\",\"n.a.\"],\\n\\'revenue\\': [\"not available\", \"n.a.\", -1],\\n\\'people\\': [\"not available\",\"n.a.\"]\\n})'"
      ]
     },
     "execution_count": 5,
     "metadata": {},
     "output_type": "execute_result"
    }
   ],
   "source": [
    "'''df12 = pd. read_csv (\"stock_data.csv\", na_values={\n",
    "'eps': [\"not available\",\"n.a.\"],\n",
    "'revenue': [\"not available\", \"n.a.\", -1],\n",
    "'people': [\"not available\",\"n.a.\"]\n",
    "})'''\n",
    "#for specific columnn you can pass a dictionary instead of a list"
   ]
  },
  {
   "cell_type": "code",
   "execution_count": 6,
   "id": "c917bbd7-9875-4681-ad35-d1df0f46a0cd",
   "metadata": {},
   "outputs": [
    {
     "data": {
      "text/plain": [
       "pandas.core.frame.DataFrame"
      ]
     },
     "execution_count": 6,
     "metadata": {},
     "output_type": "execute_result"
    }
   ],
   "source": [
    "type(df)"
   ]
  },
  {
   "cell_type": "markdown",
   "id": "2fa91a7f-2451-4946-bfea-ca40cb6db459",
   "metadata": {},
   "source": [
    "> If we want to know the data type of every coloumn, we will simply do-"
   ]
  },
  {
   "cell_type": "code",
   "execution_count": 49,
   "id": "a5da768f-1626-4524-a26c-5634bf4eb258",
   "metadata": {},
   "outputs": [
    {
     "data": {
      "text/plain": [
       "SR.        float64\n",
       "NAME        object\n",
       "GENDER      object\n",
       "AGE        float64\n",
       "DATE        object\n",
       "COUNTRY     object\n",
       "dtype: object"
      ]
     },
     "execution_count": 49,
     "metadata": {},
     "output_type": "execute_result"
    }
   ],
   "source": [
    "df.dtypes"
   ]
  },
  {
   "cell_type": "markdown",
   "id": "e9861ed1-4325-49d8-a783-fca4fe47895a",
   "metadata": {},
   "source": [
    "Object is nothing but a String."
   ]
  },
  {
   "cell_type": "markdown",
   "id": "8e8b77cd-64e8-4025-bcd4-103433d91d7a",
   "metadata": {},
   "source": [
    "> If we want to read specific number of lines from a csv file, "
   ]
  },
  {
   "cell_type": "code",
   "execution_count": 8,
   "id": "abcb076e-429c-4381-9067-40070a4c9262",
   "metadata": {},
   "outputs": [
    {
     "data": {
      "text/html": [
       "<div>\n",
       "<style scoped>\n",
       "    .dataframe tbody tr th:only-of-type {\n",
       "        vertical-align: middle;\n",
       "    }\n",
       "\n",
       "    .dataframe tbody tr th {\n",
       "        vertical-align: top;\n",
       "    }\n",
       "\n",
       "    .dataframe thead th {\n",
       "        text-align: right;\n",
       "    }\n",
       "</style>\n",
       "<table border=\"1\" class=\"dataframe\">\n",
       "  <thead>\n",
       "    <tr style=\"text-align: right;\">\n",
       "      <th></th>\n",
       "      <th>SR.</th>\n",
       "      <th>NAME</th>\n",
       "      <th>GENDER</th>\n",
       "      <th>AGE</th>\n",
       "      <th>DATE</th>\n",
       "      <th>COUNTRY</th>\n",
       "    </tr>\n",
       "  </thead>\n",
       "  <tbody>\n",
       "    <tr>\n",
       "      <th>0</th>\n",
       "      <td>1.0</td>\n",
       "      <td>Dett</td>\n",
       "      <td>Male</td>\n",
       "      <td>18.0</td>\n",
       "      <td>21/05/2015</td>\n",
       "      <td>Great Britain</td>\n",
       "    </tr>\n",
       "    <tr>\n",
       "      <th>1</th>\n",
       "      <td>2.0</td>\n",
       "      <td>Nern</td>\n",
       "      <td>Female</td>\n",
       "      <td>19.0</td>\n",
       "      <td>15/10/2017</td>\n",
       "      <td>France</td>\n",
       "    </tr>\n",
       "    <tr>\n",
       "      <th>2</th>\n",
       "      <td>3.0</td>\n",
       "      <td>Kallsie</td>\n",
       "      <td>Male</td>\n",
       "      <td>20.0</td>\n",
       "      <td>16/08/2016</td>\n",
       "      <td>France</td>\n",
       "    </tr>\n",
       "    <tr>\n",
       "      <th>3</th>\n",
       "      <td>4.0</td>\n",
       "      <td>Siuau</td>\n",
       "      <td>Female</td>\n",
       "      <td>21.0</td>\n",
       "      <td>21/05/2015</td>\n",
       "      <td>Great Britain</td>\n",
       "    </tr>\n",
       "    <tr>\n",
       "      <th>4</th>\n",
       "      <td>5.0</td>\n",
       "      <td>Shennice</td>\n",
       "      <td>Male</td>\n",
       "      <td>22.0</td>\n",
       "      <td>21/05/2016</td>\n",
       "      <td>France</td>\n",
       "    </tr>\n",
       "    <tr>\n",
       "      <th>5</th>\n",
       "      <td>6.0</td>\n",
       "      <td>Chasse</td>\n",
       "      <td>Female</td>\n",
       "      <td>23.0</td>\n",
       "      <td>15/10/2018</td>\n",
       "      <td>France</td>\n",
       "    </tr>\n",
       "    <tr>\n",
       "      <th>6</th>\n",
       "      <td>7.0</td>\n",
       "      <td>Tommye</td>\n",
       "      <td>Male</td>\n",
       "      <td>24.0</td>\n",
       "      <td>16/08/2017</td>\n",
       "      <td>United States</td>\n",
       "    </tr>\n",
       "    <tr>\n",
       "      <th>7</th>\n",
       "      <td>8.0</td>\n",
       "      <td>Dorcast</td>\n",
       "      <td>Female</td>\n",
       "      <td>25.0</td>\n",
       "      <td>21/05/2016</td>\n",
       "      <td>United States</td>\n",
       "    </tr>\n",
       "    <tr>\n",
       "      <th>8</th>\n",
       "      <td>9.0</td>\n",
       "      <td>Angelee</td>\n",
       "      <td>Male</td>\n",
       "      <td>26.0</td>\n",
       "      <td>21/05/2017</td>\n",
       "      <td>Great Britain</td>\n",
       "    </tr>\n",
       "    <tr>\n",
       "      <th>9</th>\n",
       "      <td>10.0</td>\n",
       "      <td>Willoom</td>\n",
       "      <td>Female</td>\n",
       "      <td>27.0</td>\n",
       "      <td>15/10/2019</td>\n",
       "      <td>France</td>\n",
       "    </tr>\n",
       "  </tbody>\n",
       "</table>\n",
       "</div>"
      ],
      "text/plain": [
       "    SR.      NAME  GENDER   AGE       DATE         COUNTRY\n",
       "0   1.0      Dett    Male  18.0  21/05/2015  Great Britain\n",
       "1   2.0     Nern   Female  19.0  15/10/2017         France\n",
       "2   3.0   Kallsie    Male  20.0  16/08/2016         France\n",
       "3   4.0     Siuau  Female  21.0  21/05/2015  Great Britain\n",
       "4   5.0  Shennice    Male  22.0  21/05/2016         France\n",
       "5   6.0    Chasse  Female  23.0  15/10/2018         France\n",
       "6   7.0    Tommye    Male  24.0  16/08/2017  United States\n",
       "7   8.0   Dorcast  Female  25.0  21/05/2016  United States\n",
       "8   9.0   Angelee    Male  26.0  21/05/2017  Great Britain\n",
       "9  10.0   Willoom  Female  27.0  15/10/2019         France"
      ]
     },
     "execution_count": 8,
     "metadata": {},
     "output_type": "execute_result"
    }
   ],
   "source": [
    "df.head(n=10)"
   ]
  },
  {
   "cell_type": "markdown",
   "id": "b1849f04-8633-462e-8be4-37e342002b89",
   "metadata": {},
   "source": [
    "> If we want to read specific number of line from bottom of our csv file-"
   ]
  },
  {
   "cell_type": "code",
   "execution_count": 9,
   "id": "0ccbee92-6a0a-4cf3-b5a7-7cceb2975b5b",
   "metadata": {},
   "outputs": [
    {
     "data": {
      "text/html": [
       "<div>\n",
       "<style scoped>\n",
       "    .dataframe tbody tr th:only-of-type {\n",
       "        vertical-align: middle;\n",
       "    }\n",
       "\n",
       "    .dataframe tbody tr th {\n",
       "        vertical-align: top;\n",
       "    }\n",
       "\n",
       "    .dataframe thead th {\n",
       "        text-align: right;\n",
       "    }\n",
       "</style>\n",
       "<table border=\"1\" class=\"dataframe\">\n",
       "  <thead>\n",
       "    <tr style=\"text-align: right;\">\n",
       "      <th></th>\n",
       "      <th>SR.</th>\n",
       "      <th>NAME</th>\n",
       "      <th>GENDER</th>\n",
       "      <th>AGE</th>\n",
       "      <th>DATE</th>\n",
       "      <th>COUNTRY</th>\n",
       "    </tr>\n",
       "  </thead>\n",
       "  <tbody>\n",
       "    <tr>\n",
       "      <th>15718</th>\n",
       "      <td>NaN</td>\n",
       "      <td>NaN</td>\n",
       "      <td>NaN</td>\n",
       "      <td>NaN</td>\n",
       "      <td>NaN</td>\n",
       "      <td>NaN</td>\n",
       "    </tr>\n",
       "    <tr>\n",
       "      <th>15719</th>\n",
       "      <td>NaN</td>\n",
       "      <td>NaN</td>\n",
       "      <td>NaN</td>\n",
       "      <td>NaN</td>\n",
       "      <td>NaN</td>\n",
       "      <td>NaN</td>\n",
       "    </tr>\n",
       "    <tr>\n",
       "      <th>15720</th>\n",
       "      <td>NaN</td>\n",
       "      <td>NaN</td>\n",
       "      <td>NaN</td>\n",
       "      <td>NaN</td>\n",
       "      <td>NaN</td>\n",
       "      <td>NaN</td>\n",
       "    </tr>\n",
       "    <tr>\n",
       "      <th>15721</th>\n",
       "      <td>NaN</td>\n",
       "      <td>NaN</td>\n",
       "      <td>NaN</td>\n",
       "      <td>NaN</td>\n",
       "      <td>NaN</td>\n",
       "      <td>NaN</td>\n",
       "    </tr>\n",
       "    <tr>\n",
       "      <th>15722</th>\n",
       "      <td>NaN</td>\n",
       "      <td>NaN</td>\n",
       "      <td>NaN</td>\n",
       "      <td>NaN</td>\n",
       "      <td>NaN</td>\n",
       "      <td>NaN</td>\n",
       "    </tr>\n",
       "  </tbody>\n",
       "</table>\n",
       "</div>"
      ],
      "text/plain": [
       "       SR. NAME GENDER  AGE DATE  COUNTRY\n",
       "15718  NaN  NaN    NaN  NaN   NaN     NaN\n",
       "15719  NaN  NaN    NaN  NaN   NaN     NaN\n",
       "15720  NaN  NaN    NaN  NaN   NaN     NaN\n",
       "15721  NaN  NaN    NaN  NaN   NaN     NaN\n",
       "15722  NaN  NaN    NaN  NaN   NaN     NaN"
      ]
     },
     "execution_count": 9,
     "metadata": {},
     "output_type": "execute_result"
    }
   ],
   "source": [
    "df.tail()"
   ]
  },
  {
   "cell_type": "markdown",
   "id": "27b80863-3ed2-4b64-a8e9-d441aa3506e7",
   "metadata": {},
   "source": [
    "Here NaN describes- Not A Number"
   ]
  },
  {
   "cell_type": "markdown",
   "id": "60eca1a7-fa54-48df-93f7-64a2b0eb4bef",
   "metadata": {},
   "source": [
    "> If we want to know size of our csv file in terms of rows and column :"
   ]
  },
  {
   "cell_type": "code",
   "execution_count": 10,
   "id": "e858e245-6502-4278-8b77-7022f8f1cbb3",
   "metadata": {},
   "outputs": [
    {
     "data": {
      "text/plain": [
       "(15723, 6)"
      ]
     },
     "execution_count": 10,
     "metadata": {},
     "output_type": "execute_result"
    }
   ],
   "source": [
    "df.shape"
   ]
  },
  {
   "cell_type": "code",
   "execution_count": 11,
   "id": "f5ae963a",
   "metadata": {},
   "outputs": [
    {
     "name": "stdout",
     "output_type": "stream",
     "text": [
      "15723 6\n"
     ]
    }
   ],
   "source": [
    "rows,column=df.shape\n",
    "print(rows,column)"
   ]
  },
  {
   "cell_type": "markdown",
   "id": "29b1404a-0ba6-46af-ac76-51d85d16e050",
   "metadata": {},
   "source": []
  },
  {
   "cell_type": "markdown",
   "id": "3394f3bc-ab5e-4d11-b45c-fb175d6914bb",
   "metadata": {},
   "source": []
  },
  {
   "cell_type": "markdown",
   "id": "64e4476c-504d-4671-8028-dcf73e004ca7",
   "metadata": {},
   "source": [
    "> Now If we want to create our own data frame like an excel sheet then, -"
   ]
  },
  {
   "cell_type": "code",
   "execution_count": 12,
   "id": "51766274-e134-499f-a264-279061b1f224",
   "metadata": {},
   "outputs": [],
   "source": [
    "temp = pd.DataFrame({\"No.\":[\"1\",\"2\",\"3\"],\"Name\":[\"ABC\",\"XYZ\",\"PQR\"],\"Age\":[50,28,34] })"
   ]
  },
  {
   "cell_type": "code",
   "execution_count": 13,
   "id": "29213a2b-4367-4295-b1ed-3fbd0007ee81",
   "metadata": {},
   "outputs": [
    {
     "data": {
      "text/html": [
       "<div>\n",
       "<style scoped>\n",
       "    .dataframe tbody tr th:only-of-type {\n",
       "        vertical-align: middle;\n",
       "    }\n",
       "\n",
       "    .dataframe tbody tr th {\n",
       "        vertical-align: top;\n",
       "    }\n",
       "\n",
       "    .dataframe thead th {\n",
       "        text-align: right;\n",
       "    }\n",
       "</style>\n",
       "<table border=\"1\" class=\"dataframe\">\n",
       "  <thead>\n",
       "    <tr style=\"text-align: right;\">\n",
       "      <th></th>\n",
       "      <th>No.</th>\n",
       "      <th>Name</th>\n",
       "      <th>Age</th>\n",
       "    </tr>\n",
       "  </thead>\n",
       "  <tbody>\n",
       "    <tr>\n",
       "      <th>0</th>\n",
       "      <td>1</td>\n",
       "      <td>ABC</td>\n",
       "      <td>50</td>\n",
       "    </tr>\n",
       "    <tr>\n",
       "      <th>1</th>\n",
       "      <td>2</td>\n",
       "      <td>XYZ</td>\n",
       "      <td>28</td>\n",
       "    </tr>\n",
       "    <tr>\n",
       "      <th>2</th>\n",
       "      <td>3</td>\n",
       "      <td>PQR</td>\n",
       "      <td>34</td>\n",
       "    </tr>\n",
       "  </tbody>\n",
       "</table>\n",
       "</div>"
      ],
      "text/plain": [
       "  No. Name  Age\n",
       "0   1  ABC   50\n",
       "1   2  XYZ   28\n",
       "2   3  PQR   34"
      ]
     },
     "execution_count": 13,
     "metadata": {},
     "output_type": "execute_result"
    }
   ],
   "source": [
    "temp"
   ]
  },
  {
   "cell_type": "code",
   "execution_count": 14,
   "id": "d5d5edd0-c1f3-4c9d-b13a-62b8dec467c1",
   "metadata": {},
   "outputs": [
    {
     "data": {
      "text/plain": [
       "No.     object\n",
       "Name    object\n",
       "Age      int64\n",
       "dtype: object"
      ]
     },
     "execution_count": 14,
     "metadata": {},
     "output_type": "execute_result"
    }
   ],
   "source": [
    "temp.dtypes"
   ]
  },
  {
   "cell_type": "markdown",
   "id": "259f618f",
   "metadata": {},
   "source": [
    "Another way to create a DataFrame using list of tuples"
   ]
  },
  {
   "cell_type": "code",
   "execution_count": 15,
   "id": "598feff4",
   "metadata": {},
   "outputs": [
    {
     "data": {
      "text/html": [
       "<div>\n",
       "<style scoped>\n",
       "    .dataframe tbody tr th:only-of-type {\n",
       "        vertical-align: middle;\n",
       "    }\n",
       "\n",
       "    .dataframe tbody tr th {\n",
       "        vertical-align: top;\n",
       "    }\n",
       "\n",
       "    .dataframe thead th {\n",
       "        text-align: right;\n",
       "    }\n",
       "</style>\n",
       "<table border=\"1\" class=\"dataframe\">\n",
       "  <thead>\n",
       "    <tr style=\"text-align: right;\">\n",
       "      <th></th>\n",
       "      <th>day</th>\n",
       "      <th>temperature</th>\n",
       "      <th>windspeed</th>\n",
       "      <th>event</th>\n",
       "    </tr>\n",
       "  </thead>\n",
       "  <tbody>\n",
       "    <tr>\n",
       "      <th>0</th>\n",
       "      <td>1/1/2017</td>\n",
       "      <td>32</td>\n",
       "      <td>6</td>\n",
       "      <td>Rain</td>\n",
       "    </tr>\n",
       "    <tr>\n",
       "      <th>1</th>\n",
       "      <td>1/2/2017</td>\n",
       "      <td>35</td>\n",
       "      <td>7</td>\n",
       "      <td>Sunny</td>\n",
       "    </tr>\n",
       "    <tr>\n",
       "      <th>2</th>\n",
       "      <td>1/3/2017</td>\n",
       "      <td>28</td>\n",
       "      <td>2</td>\n",
       "      <td>Snow</td>\n",
       "    </tr>\n",
       "  </tbody>\n",
       "</table>\n",
       "</div>"
      ],
      "text/plain": [
       "        day  temperature  windspeed  event\n",
       "0  1/1/2017           32          6   Rain\n",
       "1  1/2/2017           35          7  Sunny\n",
       "2  1/3/2017           28          2   Snow"
      ]
     },
     "execution_count": 15,
     "metadata": {},
     "output_type": "execute_result"
    }
   ],
   "source": [
    "weather_data = [\n",
    "('1/1/2017', 32,6, 'Rain'),\n",
    "('1/2/2017', 35,7, 'Sunny'), \n",
    "('1/3/2017', 28, 2, 'Snow')\n",
    "]\n",
    "df1 = pd.DataFrame (weather_data, columns=[\"day\", \"temperature\", \"windspeed\", \"event\"])\n",
    "df1"
   ]
  },
  {
   "cell_type": "markdown",
   "id": "3bdab69b-803f-4a9f-ba5a-8cb666422733",
   "metadata": {},
   "source": [
    "> To Convert String Datetime to actual datatype:"
   ]
  },
  {
   "cell_type": "code",
   "execution_count": 16,
   "id": "7e6415e1-f2b7-43b6-9d9f-4b6ebccd06a6",
   "metadata": {},
   "outputs": [
    {
     "data": {
      "text/plain": [
       "Timestamp('2023-01-23 00:00:00')"
      ]
     },
     "execution_count": 16,
     "metadata": {},
     "output_type": "execute_result"
    }
   ],
   "source": [
    "pd.to_datetime(\"2023-jan-23\")"
   ]
  },
  {
   "cell_type": "markdown",
   "id": "5f44b6b9-e59b-46e3-b4f3-0366eb2ebaca",
   "metadata": {},
   "source": [
    "> If we want to convert multiple dates, then pass them into a list-"
   ]
  },
  {
   "cell_type": "code",
   "execution_count": 17,
   "id": "df4a4040-9afa-4928-b88d-ed3982b4f605",
   "metadata": {},
   "outputs": [
    {
     "data": {
      "text/plain": [
       "DatetimeIndex(['2023-05-27', '2020-07-23', '2022-08-21'], dtype='datetime64[ns]', freq=None)"
      ]
     },
     "execution_count": 17,
     "metadata": {},
     "output_type": "execute_result"
    }
   ],
   "source": [
    "pd.to_datetime([\"2023-5-27\",\"2020-7-23\",\"2022-8-21\"])"
   ]
  },
  {
   "cell_type": "code",
   "execution_count": null,
   "id": "d10f94c2-237e-4485-8519-581b40f67d65",
   "metadata": {},
   "outputs": [],
   "source": []
  },
  {
   "cell_type": "markdown",
   "id": "9e72f60f-0149-4874-98b3-d31cb3f4b253",
   "metadata": {},
   "source": [
    "> Let's Convert a String datetime csv column into datetime datatype. Before that let's create a temporary \n",
    "dataframe."
   ]
  },
  {
   "cell_type": "code",
   "execution_count": 18,
   "id": "3e77d119-043f-439d-9f48-a75220f9da5b",
   "metadata": {},
   "outputs": [],
   "source": [
    "temp1=pd.DataFrame({\"No.\":[1,2,3],\"Name\":[\"ABC\",\"XYZ\",\"PQR\"],\"Date\":[\"2023-5-27\",\"2020-7-23\",\"2022-8-21\"]})"
   ]
  },
  {
   "cell_type": "code",
   "execution_count": 19,
   "id": "10847117-04fd-43b2-bc03-718647577877",
   "metadata": {},
   "outputs": [
    {
     "data": {
      "text/html": [
       "<div>\n",
       "<style scoped>\n",
       "    .dataframe tbody tr th:only-of-type {\n",
       "        vertical-align: middle;\n",
       "    }\n",
       "\n",
       "    .dataframe tbody tr th {\n",
       "        vertical-align: top;\n",
       "    }\n",
       "\n",
       "    .dataframe thead th {\n",
       "        text-align: right;\n",
       "    }\n",
       "</style>\n",
       "<table border=\"1\" class=\"dataframe\">\n",
       "  <thead>\n",
       "    <tr style=\"text-align: right;\">\n",
       "      <th></th>\n",
       "      <th>No.</th>\n",
       "      <th>Name</th>\n",
       "      <th>Date</th>\n",
       "    </tr>\n",
       "  </thead>\n",
       "  <tbody>\n",
       "    <tr>\n",
       "      <th>0</th>\n",
       "      <td>1</td>\n",
       "      <td>ABC</td>\n",
       "      <td>2023-5-27</td>\n",
       "    </tr>\n",
       "  </tbody>\n",
       "</table>\n",
       "</div>"
      ],
      "text/plain": [
       "   No. Name       Date\n",
       "0    1  ABC  2023-5-27"
      ]
     },
     "execution_count": 19,
     "metadata": {},
     "output_type": "execute_result"
    }
   ],
   "source": [
    "temp1.sort_values(by=[\"Date\"],ascending=False).head(n=1)"
   ]
  },
  {
   "cell_type": "markdown",
   "id": "38c53c33-1a53-4160-a043-ec27c2f8eb98",
   "metadata": {},
   "source": [
    "> Datatype of Date column is still String:"
   ]
  },
  {
   "cell_type": "code",
   "execution_count": 20,
   "id": "0cd21e44-17d0-4b25-a443-74695fff9a30",
   "metadata": {},
   "outputs": [
    {
     "data": {
      "text/plain": [
       "No.      int64\n",
       "Name    object\n",
       "Date    object\n",
       "dtype: object"
      ]
     },
     "execution_count": 20,
     "metadata": {},
     "output_type": "execute_result"
    }
   ],
   "source": [
    "temp1.dtypes"
   ]
  },
  {
   "cell_type": "markdown",
   "id": "2b7a82eb-57ed-4057-9c5c-670e9e85a0c9",
   "metadata": {},
   "source": [
    "> Now let's convert Date column in to Datetime Datatype:"
   ]
  },
  {
   "cell_type": "code",
   "execution_count": 21,
   "id": "f8d02779-fac7-4460-afe3-452faa82cde2",
   "metadata": {},
   "outputs": [],
   "source": [
    "temp1[\"Date\"] = pd.to_datetime(temp1[\"Date\"])"
   ]
  },
  {
   "cell_type": "markdown",
   "id": "96fe0fc0-ae64-45a8-b82f-0353a113c958",
   "metadata": {},
   "source": [
    "> Let's Check the Datatype of Date column-"
   ]
  },
  {
   "cell_type": "code",
   "execution_count": 22,
   "id": "90241625-ed0a-4f59-919b-c53cbf5a4285",
   "metadata": {},
   "outputs": [
    {
     "data": {
      "text/plain": [
       "No.              int64\n",
       "Name            object\n",
       "Date    datetime64[ns]\n",
       "dtype: object"
      ]
     },
     "execution_count": 22,
     "metadata": {},
     "output_type": "execute_result"
    }
   ],
   "source": [
    "temp1.dtypes"
   ]
  },
  {
   "cell_type": "markdown",
   "id": "714f78dd-244d-4134-a332-c4536ba5734d",
   "metadata": {},
   "source": [
    "> Hence, the datatype of Date Column has been changed."
   ]
  },
  {
   "cell_type": "code",
   "execution_count": null,
   "id": "86cec06b-0f6c-4dd2-9826-c2f4c2ef6eda",
   "metadata": {},
   "outputs": [],
   "source": []
  },
  {
   "cell_type": "markdown",
   "id": "d9e424cd-db26-4da5-9cba-dd7870647ab9",
   "metadata": {},
   "source": [
    "> If there is any error in Datetime list then simply add this into passing function-"
   ]
  },
  {
   "cell_type": "code",
   "execution_count": 23,
   "id": "af492439-37ce-4832-ae4f-e9c99d846c2c",
   "metadata": {},
   "outputs": [
    {
     "data": {
      "text/plain": [
       "DatetimeIndex(['2023-05-27', '2020-07-23', 'NaT'], dtype='datetime64[ns]', freq=None)"
      ]
     },
     "execution_count": 23,
     "metadata": {},
     "output_type": "execute_result"
    }
   ],
   "source": [
    "pd.to_datetime([\"2023-5-27\",\"2020-7-23\",\"ABC\"],errors=\"coerce\")"
   ]
  },
  {
   "cell_type": "markdown",
   "id": "40b55b68-0db1-471d-9748-9f63f48163d3",
   "metadata": {},
   "source": [
    "> NaT : Not a Time"
   ]
  },
  {
   "cell_type": "markdown",
   "id": "8de32941-d3d7-4c1e-9474-cf409aa4da2d",
   "metadata": {},
   "source": []
  },
  {
   "cell_type": "markdown",
   "id": "39afb466-4845-4e58-bbb6-ef733f36d47e",
   "metadata": {},
   "source": [
    "> Now, Let's convert String to integer datatype:"
   ]
  },
  {
   "cell_type": "code",
   "execution_count": 24,
   "id": "7b835607-e4b8-4b24-ab95-1c2ebb814e37",
   "metadata": {},
   "outputs": [],
   "source": [
    "temp2=pd.DataFrame({\"No.\":[\"1\",\"2\",\"3\"],\"Name\":[\"ABC\",\"XYZ\",\"PQR\"]})"
   ]
  },
  {
   "cell_type": "code",
   "execution_count": 25,
   "id": "883385ff-3dac-4881-a946-fe9d9c2899dd",
   "metadata": {},
   "outputs": [
    {
     "data": {
      "text/html": [
       "<div>\n",
       "<style scoped>\n",
       "    .dataframe tbody tr th:only-of-type {\n",
       "        vertical-align: middle;\n",
       "    }\n",
       "\n",
       "    .dataframe tbody tr th {\n",
       "        vertical-align: top;\n",
       "    }\n",
       "\n",
       "    .dataframe thead th {\n",
       "        text-align: right;\n",
       "    }\n",
       "</style>\n",
       "<table border=\"1\" class=\"dataframe\">\n",
       "  <thead>\n",
       "    <tr style=\"text-align: right;\">\n",
       "      <th></th>\n",
       "      <th>No.</th>\n",
       "      <th>Name</th>\n",
       "    </tr>\n",
       "  </thead>\n",
       "  <tbody>\n",
       "    <tr>\n",
       "      <th>0</th>\n",
       "      <td>1</td>\n",
       "      <td>ABC</td>\n",
       "    </tr>\n",
       "    <tr>\n",
       "      <th>1</th>\n",
       "      <td>2</td>\n",
       "      <td>XYZ</td>\n",
       "    </tr>\n",
       "    <tr>\n",
       "      <th>2</th>\n",
       "      <td>3</td>\n",
       "      <td>PQR</td>\n",
       "    </tr>\n",
       "  </tbody>\n",
       "</table>\n",
       "</div>"
      ],
      "text/plain": [
       "  No. Name\n",
       "0   1  ABC\n",
       "1   2  XYZ\n",
       "2   3  PQR"
      ]
     },
     "execution_count": 25,
     "metadata": {},
     "output_type": "execute_result"
    }
   ],
   "source": [
    "temp2"
   ]
  },
  {
   "cell_type": "code",
   "execution_count": 26,
   "id": "b01fedb8-c141-4db7-896e-9de61ae518cb",
   "metadata": {},
   "outputs": [],
   "source": [
    "temp2[\"No.\"] = pd.to_numeric(temp2[\"No.\"])"
   ]
  },
  {
   "cell_type": "code",
   "execution_count": 27,
   "id": "991769e0-8de3-4122-821e-7379c94375bd",
   "metadata": {},
   "outputs": [
    {
     "data": {
      "text/plain": [
       "No.      int64\n",
       "Name    object\n",
       "dtype: object"
      ]
     },
     "execution_count": 27,
     "metadata": {},
     "output_type": "execute_result"
    }
   ],
   "source": [
    "temp2.dtypes"
   ]
  },
  {
   "cell_type": "markdown",
   "id": "91935138-3d73-4ce4-9e44-b4237a00c417",
   "metadata": {},
   "source": []
  },
  {
   "cell_type": "markdown",
   "id": "f2c238dc-3dd7-436d-a146-a2629c4de930",
   "metadata": {},
   "source": [
    "If we want to know all the facts about our csv file data, then-"
   ]
  },
  {
   "cell_type": "code",
   "execution_count": 28,
   "id": "1f74ce62-c04f-435b-8dc0-2dd90fe2770b",
   "metadata": {},
   "outputs": [
    {
     "data": {
      "text/html": [
       "<div>\n",
       "<style scoped>\n",
       "    .dataframe tbody tr th:only-of-type {\n",
       "        vertical-align: middle;\n",
       "    }\n",
       "\n",
       "    .dataframe tbody tr th {\n",
       "        vertical-align: top;\n",
       "    }\n",
       "\n",
       "    .dataframe thead th {\n",
       "        text-align: right;\n",
       "    }\n",
       "</style>\n",
       "<table border=\"1\" class=\"dataframe\">\n",
       "  <thead>\n",
       "    <tr style=\"text-align: right;\">\n",
       "      <th></th>\n",
       "      <th>SR.</th>\n",
       "      <th>NAME</th>\n",
       "      <th>GENDER</th>\n",
       "      <th>AGE</th>\n",
       "      <th>DATE</th>\n",
       "      <th>COUNTRY</th>\n",
       "    </tr>\n",
       "  </thead>\n",
       "  <tbody>\n",
       "    <tr>\n",
       "      <th>count</th>\n",
       "      <td>2561.000000</td>\n",
       "      <td>2561</td>\n",
       "      <td>2561</td>\n",
       "      <td>2561.000000</td>\n",
       "      <td>2561</td>\n",
       "      <td>2561</td>\n",
       "    </tr>\n",
       "    <tr>\n",
       "      <th>unique</th>\n",
       "      <td>NaN</td>\n",
       "      <td>16</td>\n",
       "      <td>2</td>\n",
       "      <td>NaN</td>\n",
       "      <td>36</td>\n",
       "      <td>3</td>\n",
       "    </tr>\n",
       "    <tr>\n",
       "      <th>top</th>\n",
       "      <td>NaN</td>\n",
       "      <td>Nern</td>\n",
       "      <td>Female</td>\n",
       "      <td>NaN</td>\n",
       "      <td>21/05/2021</td>\n",
       "      <td>France</td>\n",
       "    </tr>\n",
       "    <tr>\n",
       "      <th>freq</th>\n",
       "      <td>NaN</td>\n",
       "      <td>162</td>\n",
       "      <td>2330</td>\n",
       "      <td>NaN</td>\n",
       "      <td>130</td>\n",
       "      <td>1265</td>\n",
       "    </tr>\n",
       "    <tr>\n",
       "      <th>mean</th>\n",
       "      <td>1281.000000</td>\n",
       "      <td>NaN</td>\n",
       "      <td>NaN</td>\n",
       "      <td>44.695822</td>\n",
       "      <td>NaN</td>\n",
       "      <td>NaN</td>\n",
       "    </tr>\n",
       "    <tr>\n",
       "      <th>std</th>\n",
       "      <td>739.441343</td>\n",
       "      <td>NaN</td>\n",
       "      <td>NaN</td>\n",
       "      <td>12.877246</td>\n",
       "      <td>NaN</td>\n",
       "      <td>NaN</td>\n",
       "    </tr>\n",
       "    <tr>\n",
       "      <th>min</th>\n",
       "      <td>1.000000</td>\n",
       "      <td>NaN</td>\n",
       "      <td>NaN</td>\n",
       "      <td>18.000000</td>\n",
       "      <td>NaN</td>\n",
       "      <td>NaN</td>\n",
       "    </tr>\n",
       "    <tr>\n",
       "      <th>25%</th>\n",
       "      <td>641.000000</td>\n",
       "      <td>NaN</td>\n",
       "      <td>NaN</td>\n",
       "      <td>36.000000</td>\n",
       "      <td>NaN</td>\n",
       "      <td>NaN</td>\n",
       "    </tr>\n",
       "    <tr>\n",
       "      <th>50%</th>\n",
       "      <td>1281.000000</td>\n",
       "      <td>NaN</td>\n",
       "      <td>NaN</td>\n",
       "      <td>46.000000</td>\n",
       "      <td>NaN</td>\n",
       "      <td>NaN</td>\n",
       "    </tr>\n",
       "    <tr>\n",
       "      <th>75%</th>\n",
       "      <td>1921.000000</td>\n",
       "      <td>NaN</td>\n",
       "      <td>NaN</td>\n",
       "      <td>55.000000</td>\n",
       "      <td>NaN</td>\n",
       "      <td>NaN</td>\n",
       "    </tr>\n",
       "    <tr>\n",
       "      <th>max</th>\n",
       "      <td>2561.000000</td>\n",
       "      <td>NaN</td>\n",
       "      <td>NaN</td>\n",
       "      <td>65.000000</td>\n",
       "      <td>NaN</td>\n",
       "      <td>NaN</td>\n",
       "    </tr>\n",
       "  </tbody>\n",
       "</table>\n",
       "</div>"
      ],
      "text/plain": [
       "                SR.   NAME  GENDER          AGE       DATE  COUNTRY\n",
       "count   2561.000000   2561    2561  2561.000000        2561    2561\n",
       "unique          NaN     16       2          NaN          36       3\n",
       "top             NaN  Nern   Female          NaN  21/05/2021  France\n",
       "freq            NaN    162    2330          NaN         130    1265\n",
       "mean    1281.000000    NaN     NaN    44.695822         NaN     NaN\n",
       "std      739.441343    NaN     NaN    12.877246         NaN     NaN\n",
       "min        1.000000    NaN     NaN    18.000000         NaN     NaN\n",
       "25%      641.000000    NaN     NaN    36.000000         NaN     NaN\n",
       "50%     1281.000000    NaN     NaN    46.000000         NaN     NaN\n",
       "75%     1921.000000    NaN     NaN    55.000000         NaN     NaN\n",
       "max     2561.000000    NaN     NaN    65.000000         NaN     NaN"
      ]
     },
     "execution_count": 28,
     "metadata": {},
     "output_type": "execute_result"
    }
   ],
   "source": [
    "df.describe(include=\"all\")"
   ]
  },
  {
   "cell_type": "markdown",
   "id": "b231b932-4c6a-4cca-97c6-8878591317e0",
   "metadata": {},
   "source": [
    "> you can simply replace include=\"all\" with any specific column name."
   ]
  },
  {
   "cell_type": "code",
   "execution_count": null,
   "id": "e5d0b6c4-a610-4703-8c72-dd8bcb99a42c",
   "metadata": {},
   "outputs": [],
   "source": []
  },
  {
   "cell_type": "markdown",
   "id": "89faeae1-fbf4-4fbe-91e3-933558e174c9",
   "metadata": {},
   "source": [
    "> Count of Unique Name in our dataframe"
   ]
  },
  {
   "cell_type": "code",
   "execution_count": 29,
   "id": "48d5bbad-854a-4deb-a798-1d0180baa47d",
   "metadata": {},
   "outputs": [
    {
     "data": {
      "text/plain": [
       "Nern        162\n",
       "Kallsie     162\n",
       "Siuau       162\n",
       "Shennice    162\n",
       "Chasse      162\n",
       "Tommye      162\n",
       "Dorcast     162\n",
       "Angelee     162\n",
       "Willoom     162\n",
       "Waeston     162\n",
       "Rosma       162\n",
       "Felisaas    162\n",
       "Demetas     162\n",
       "Jeromyw     162\n",
       "Rashid      162\n",
       "Dett        131\n",
       "Name: NAME, dtype: int64"
      ]
     },
     "execution_count": 29,
     "metadata": {},
     "output_type": "execute_result"
    }
   ],
   "source": [
    "df[\"NAME\"].value_counts()"
   ]
  },
  {
   "cell_type": "markdown",
   "id": "9ed8f1f3-e920-4478-a3e6-09e44c312990",
   "metadata": {},
   "source": [
    "> Top 5 values from this list-"
   ]
  },
  {
   "cell_type": "code",
   "execution_count": 30,
   "id": "d7d587dc-e6b4-4d51-8af2-3c5db33dfea0",
   "metadata": {},
   "outputs": [
    {
     "data": {
      "text/plain": [
       "Nern        162\n",
       "Kallsie     162\n",
       "Siuau       162\n",
       "Shennice    162\n",
       "Chasse      162\n",
       "Name: NAME, dtype: int64"
      ]
     },
     "execution_count": 30,
     "metadata": {},
     "output_type": "execute_result"
    }
   ],
   "source": [
    "df[\"NAME\"].value_counts().head()"
   ]
  },
  {
   "cell_type": "code",
   "execution_count": null,
   "id": "c9e1cc68-c32d-4ba9-85b5-d9266d247341",
   "metadata": {},
   "outputs": [],
   "source": []
  },
  {
   "cell_type": "markdown",
   "id": "f57b5469-a281-496b-9585-a7b40d4f99fb",
   "metadata": {},
   "source": [
    "> If we want to access specific number of rows and columns from a csv file:"
   ]
  },
  {
   "cell_type": "code",
   "execution_count": 31,
   "id": "638f3741-89d3-4763-91e4-c921e80b8fab",
   "metadata": {},
   "outputs": [
    {
     "data": {
      "text/html": [
       "<div>\n",
       "<style scoped>\n",
       "    .dataframe tbody tr th:only-of-type {\n",
       "        vertical-align: middle;\n",
       "    }\n",
       "\n",
       "    .dataframe tbody tr th {\n",
       "        vertical-align: top;\n",
       "    }\n",
       "\n",
       "    .dataframe thead th {\n",
       "        text-align: right;\n",
       "    }\n",
       "</style>\n",
       "<table border=\"1\" class=\"dataframe\">\n",
       "  <thead>\n",
       "    <tr style=\"text-align: right;\">\n",
       "      <th></th>\n",
       "      <th>SR.</th>\n",
       "      <th>NAME</th>\n",
       "      <th>GENDER</th>\n",
       "      <th>AGE</th>\n",
       "      <th>DATE</th>\n",
       "    </tr>\n",
       "  </thead>\n",
       "  <tbody>\n",
       "    <tr>\n",
       "      <th>0</th>\n",
       "      <td>1.0</td>\n",
       "      <td>Dett</td>\n",
       "      <td>Male</td>\n",
       "      <td>18.0</td>\n",
       "      <td>21/05/2015</td>\n",
       "    </tr>\n",
       "    <tr>\n",
       "      <th>1</th>\n",
       "      <td>2.0</td>\n",
       "      <td>Nern</td>\n",
       "      <td>Female</td>\n",
       "      <td>19.0</td>\n",
       "      <td>15/10/2017</td>\n",
       "    </tr>\n",
       "    <tr>\n",
       "      <th>2</th>\n",
       "      <td>3.0</td>\n",
       "      <td>Kallsie</td>\n",
       "      <td>Male</td>\n",
       "      <td>20.0</td>\n",
       "      <td>16/08/2016</td>\n",
       "    </tr>\n",
       "    <tr>\n",
       "      <th>3</th>\n",
       "      <td>4.0</td>\n",
       "      <td>Siuau</td>\n",
       "      <td>Female</td>\n",
       "      <td>21.0</td>\n",
       "      <td>21/05/2015</td>\n",
       "    </tr>\n",
       "  </tbody>\n",
       "</table>\n",
       "</div>"
      ],
      "text/plain": [
       "   SR.     NAME  GENDER   AGE       DATE \n",
       "0  1.0     Dett    Male  18.0  21/05/2015\n",
       "1  2.0    Nern   Female  19.0  15/10/2017\n",
       "2  3.0  Kallsie    Male  20.0  16/08/2016\n",
       "3  4.0    Siuau  Female  21.0  21/05/2015"
      ]
     },
     "execution_count": 31,
     "metadata": {},
     "output_type": "execute_result"
    }
   ],
   "source": [
    "df.iloc[0:4,0:5]  #Starting row : end+1 row , Starting Column: end+1 column"
   ]
  },
  {
   "cell_type": "markdown",
   "id": "421f94dd-df83-42f5-9cfd-a70cb063bcc2",
   "metadata": {},
   "source": [
    "You can also do it like that-"
   ]
  },
  {
   "cell_type": "code",
   "execution_count": 32,
   "id": "c425caee-18fb-4714-bf15-67110e2fe537",
   "metadata": {},
   "outputs": [
    {
     "data": {
      "text/html": [
       "<div>\n",
       "<style scoped>\n",
       "    .dataframe tbody tr th:only-of-type {\n",
       "        vertical-align: middle;\n",
       "    }\n",
       "\n",
       "    .dataframe tbody tr th {\n",
       "        vertical-align: top;\n",
       "    }\n",
       "\n",
       "    .dataframe thead th {\n",
       "        text-align: right;\n",
       "    }\n",
       "</style>\n",
       "<table border=\"1\" class=\"dataframe\">\n",
       "  <thead>\n",
       "    <tr style=\"text-align: right;\">\n",
       "      <th></th>\n",
       "      <th>NAME</th>\n",
       "      <th>AGE</th>\n",
       "    </tr>\n",
       "  </thead>\n",
       "  <tbody>\n",
       "    <tr>\n",
       "      <th>0</th>\n",
       "      <td>Dett</td>\n",
       "      <td>18.0</td>\n",
       "    </tr>\n",
       "    <tr>\n",
       "      <th>1</th>\n",
       "      <td>Nern</td>\n",
       "      <td>19.0</td>\n",
       "    </tr>\n",
       "    <tr>\n",
       "      <th>2</th>\n",
       "      <td>Kallsie</td>\n",
       "      <td>20.0</td>\n",
       "    </tr>\n",
       "    <tr>\n",
       "      <th>3</th>\n",
       "      <td>Siuau</td>\n",
       "      <td>21.0</td>\n",
       "    </tr>\n",
       "    <tr>\n",
       "      <th>4</th>\n",
       "      <td>Shennice</td>\n",
       "      <td>22.0</td>\n",
       "    </tr>\n",
       "  </tbody>\n",
       "</table>\n",
       "</div>"
      ],
      "text/plain": [
       "       NAME   AGE\n",
       "0      Dett  18.0\n",
       "1     Nern   19.0\n",
       "2   Kallsie  20.0\n",
       "3     Siuau  21.0\n",
       "4  Shennice  22.0"
      ]
     },
     "execution_count": 32,
     "metadata": {},
     "output_type": "execute_result"
    }
   ],
   "source": [
    "df.iloc[0:5,[1,3]]"
   ]
  },
  {
   "cell_type": "code",
   "execution_count": 33,
   "id": "d10e75df-cb4d-431b-b8e1-95a9a6cb3c9c",
   "metadata": {},
   "outputs": [
    {
     "data": {
      "text/html": [
       "<div>\n",
       "<style scoped>\n",
       "    .dataframe tbody tr th:only-of-type {\n",
       "        vertical-align: middle;\n",
       "    }\n",
       "\n",
       "    .dataframe tbody tr th {\n",
       "        vertical-align: top;\n",
       "    }\n",
       "\n",
       "    .dataframe thead th {\n",
       "        text-align: right;\n",
       "    }\n",
       "</style>\n",
       "<table border=\"1\" class=\"dataframe\">\n",
       "  <thead>\n",
       "    <tr style=\"text-align: right;\">\n",
       "      <th></th>\n",
       "      <th>SR.</th>\n",
       "      <th>NAME</th>\n",
       "      <th>GENDER</th>\n",
       "      <th>AGE</th>\n",
       "      <th>DATE</th>\n",
       "      <th>COUNTRY</th>\n",
       "    </tr>\n",
       "  </thead>\n",
       "  <tbody>\n",
       "    <tr>\n",
       "      <th>0</th>\n",
       "      <td>1.0</td>\n",
       "      <td>Dett</td>\n",
       "      <td>Male</td>\n",
       "      <td>18.0</td>\n",
       "      <td>21/05/2015</td>\n",
       "      <td>Great Britain</td>\n",
       "    </tr>\n",
       "    <tr>\n",
       "      <th>1</th>\n",
       "      <td>2.0</td>\n",
       "      <td>Nern</td>\n",
       "      <td>Female</td>\n",
       "      <td>19.0</td>\n",
       "      <td>15/10/2017</td>\n",
       "      <td>France</td>\n",
       "    </tr>\n",
       "    <tr>\n",
       "      <th>2</th>\n",
       "      <td>3.0</td>\n",
       "      <td>Kallsie</td>\n",
       "      <td>Male</td>\n",
       "      <td>20.0</td>\n",
       "      <td>16/08/2016</td>\n",
       "      <td>France</td>\n",
       "    </tr>\n",
       "    <tr>\n",
       "      <th>3</th>\n",
       "      <td>4.0</td>\n",
       "      <td>Siuau</td>\n",
       "      <td>Female</td>\n",
       "      <td>21.0</td>\n",
       "      <td>21/05/2015</td>\n",
       "      <td>Great Britain</td>\n",
       "    </tr>\n",
       "    <tr>\n",
       "      <th>4</th>\n",
       "      <td>5.0</td>\n",
       "      <td>Shennice</td>\n",
       "      <td>Male</td>\n",
       "      <td>22.0</td>\n",
       "      <td>21/05/2016</td>\n",
       "      <td>France</td>\n",
       "    </tr>\n",
       "    <tr>\n",
       "      <th>5</th>\n",
       "      <td>6.0</td>\n",
       "      <td>Chasse</td>\n",
       "      <td>Female</td>\n",
       "      <td>23.0</td>\n",
       "      <td>15/10/2018</td>\n",
       "      <td>France</td>\n",
       "    </tr>\n",
       "  </tbody>\n",
       "</table>\n",
       "</div>"
      ],
      "text/plain": [
       "   SR.      NAME  GENDER   AGE       DATE         COUNTRY\n",
       "0  1.0      Dett    Male  18.0  21/05/2015  Great Britain\n",
       "1  2.0     Nern   Female  19.0  15/10/2017         France\n",
       "2  3.0   Kallsie    Male  20.0  16/08/2016         France\n",
       "3  4.0     Siuau  Female  21.0  21/05/2015  Great Britain\n",
       "4  5.0  Shennice    Male  22.0  21/05/2016         France\n",
       "5  6.0    Chasse  Female  23.0  15/10/2018         France"
      ]
     },
     "execution_count": 33,
     "metadata": {},
     "output_type": "execute_result"
    }
   ],
   "source": [
    "df.iloc[0:6]"
   ]
  },
  {
   "cell_type": "code",
   "execution_count": 34,
   "id": "bad11e8d-4151-4214-858e-4d03b0ef98a7",
   "metadata": {},
   "outputs": [
    {
     "data": {
      "text/html": [
       "<div>\n",
       "<style scoped>\n",
       "    .dataframe tbody tr th:only-of-type {\n",
       "        vertical-align: middle;\n",
       "    }\n",
       "\n",
       "    .dataframe tbody tr th {\n",
       "        vertical-align: top;\n",
       "    }\n",
       "\n",
       "    .dataframe thead th {\n",
       "        text-align: right;\n",
       "    }\n",
       "</style>\n",
       "<table border=\"1\" class=\"dataframe\">\n",
       "  <thead>\n",
       "    <tr style=\"text-align: right;\">\n",
       "      <th></th>\n",
       "      <th>AGE</th>\n",
       "      <th>DATE</th>\n",
       "    </tr>\n",
       "  </thead>\n",
       "  <tbody>\n",
       "    <tr>\n",
       "      <th>0</th>\n",
       "      <td>18.0</td>\n",
       "      <td>21/05/2015</td>\n",
       "    </tr>\n",
       "    <tr>\n",
       "      <th>1</th>\n",
       "      <td>19.0</td>\n",
       "      <td>15/10/2017</td>\n",
       "    </tr>\n",
       "    <tr>\n",
       "      <th>2</th>\n",
       "      <td>20.0</td>\n",
       "      <td>16/08/2016</td>\n",
       "    </tr>\n",
       "    <tr>\n",
       "      <th>3</th>\n",
       "      <td>21.0</td>\n",
       "      <td>21/05/2015</td>\n",
       "    </tr>\n",
       "    <tr>\n",
       "      <th>4</th>\n",
       "      <td>22.0</td>\n",
       "      <td>21/05/2016</td>\n",
       "    </tr>\n",
       "    <tr>\n",
       "      <th>...</th>\n",
       "      <td>...</td>\n",
       "      <td>...</td>\n",
       "    </tr>\n",
       "    <tr>\n",
       "      <th>15718</th>\n",
       "      <td>NaN</td>\n",
       "      <td>NaN</td>\n",
       "    </tr>\n",
       "    <tr>\n",
       "      <th>15719</th>\n",
       "      <td>NaN</td>\n",
       "      <td>NaN</td>\n",
       "    </tr>\n",
       "    <tr>\n",
       "      <th>15720</th>\n",
       "      <td>NaN</td>\n",
       "      <td>NaN</td>\n",
       "    </tr>\n",
       "    <tr>\n",
       "      <th>15721</th>\n",
       "      <td>NaN</td>\n",
       "      <td>NaN</td>\n",
       "    </tr>\n",
       "    <tr>\n",
       "      <th>15722</th>\n",
       "      <td>NaN</td>\n",
       "      <td>NaN</td>\n",
       "    </tr>\n",
       "  </tbody>\n",
       "</table>\n",
       "<p>15723 rows × 2 columns</p>\n",
       "</div>"
      ],
      "text/plain": [
       "        AGE       DATE \n",
       "0      18.0  21/05/2015\n",
       "1      19.0  15/10/2017\n",
       "2      20.0  16/08/2016\n",
       "3      21.0  21/05/2015\n",
       "4      22.0  21/05/2016\n",
       "...     ...         ...\n",
       "15718   NaN         NaN\n",
       "15719   NaN         NaN\n",
       "15720   NaN         NaN\n",
       "15721   NaN         NaN\n",
       "15722   NaN         NaN\n",
       "\n",
       "[15723 rows x 2 columns]"
      ]
     },
     "execution_count": 34,
     "metadata": {},
     "output_type": "execute_result"
    }
   ],
   "source": [
    "df.iloc[:,3:5]"
   ]
  },
  {
   "cell_type": "code",
   "execution_count": 35,
   "id": "8065baf5-4766-411c-b15f-d363288ce76a",
   "metadata": {},
   "outputs": [
    {
     "name": "stdout",
     "output_type": "stream",
     "text": [
      "(15723, 6)\n"
     ]
    },
    {
     "data": {
      "text/plain": [
       "(15723, 5)"
      ]
     },
     "execution_count": 35,
     "metadata": {},
     "output_type": "execute_result"
    }
   ],
   "source": [
    "withoutLast=df.iloc[:,:-1] # It will produce all the rows and columns except last column\n",
    "print(df.shape)\n",
    "withoutLast.shape"
   ]
  },
  {
   "cell_type": "markdown",
   "id": "2eb010d3-8b4e-4e03-acb0-3e82cb360fe7",
   "metadata": {},
   "source": [
    "You can also access range of rows and columns with the help of their names. That is called label based indexing"
   ]
  },
  {
   "cell_type": "code",
   "execution_count": 36,
   "id": "8af2d1b1-118c-4e72-8d9f-07eca52c2316",
   "metadata": {},
   "outputs": [
    {
     "data": {
      "text/plain": [
       "0        18.0\n",
       "1        19.0\n",
       "2        20.0\n",
       "3        21.0\n",
       "4        22.0\n",
       "         ... \n",
       "15718     NaN\n",
       "15719     NaN\n",
       "15720     NaN\n",
       "15721     NaN\n",
       "15722     NaN\n",
       "Name: AGE, Length: 15723, dtype: float64"
      ]
     },
     "execution_count": 36,
     "metadata": {},
     "output_type": "execute_result"
    }
   ],
   "source": [
    "df.loc[:,\"AGE\"]"
   ]
  },
  {
   "cell_type": "code",
   "execution_count": 37,
   "id": "a029c487-720d-4bc9-b8ac-20d40b585306",
   "metadata": {},
   "outputs": [
    {
     "data": {
      "text/html": [
       "<div>\n",
       "<style scoped>\n",
       "    .dataframe tbody tr th:only-of-type {\n",
       "        vertical-align: middle;\n",
       "    }\n",
       "\n",
       "    .dataframe tbody tr th {\n",
       "        vertical-align: top;\n",
       "    }\n",
       "\n",
       "    .dataframe thead th {\n",
       "        text-align: right;\n",
       "    }\n",
       "</style>\n",
       "<table border=\"1\" class=\"dataframe\">\n",
       "  <thead>\n",
       "    <tr style=\"text-align: right;\">\n",
       "      <th></th>\n",
       "      <th>NAME</th>\n",
       "      <th>AGE</th>\n",
       "    </tr>\n",
       "  </thead>\n",
       "  <tbody>\n",
       "    <tr>\n",
       "      <th>0</th>\n",
       "      <td>Dett</td>\n",
       "      <td>18.0</td>\n",
       "    </tr>\n",
       "    <tr>\n",
       "      <th>1</th>\n",
       "      <td>Nern</td>\n",
       "      <td>19.0</td>\n",
       "    </tr>\n",
       "    <tr>\n",
       "      <th>2</th>\n",
       "      <td>Kallsie</td>\n",
       "      <td>20.0</td>\n",
       "    </tr>\n",
       "    <tr>\n",
       "      <th>3</th>\n",
       "      <td>Siuau</td>\n",
       "      <td>21.0</td>\n",
       "    </tr>\n",
       "    <tr>\n",
       "      <th>4</th>\n",
       "      <td>Shennice</td>\n",
       "      <td>22.0</td>\n",
       "    </tr>\n",
       "    <tr>\n",
       "      <th>...</th>\n",
       "      <td>...</td>\n",
       "      <td>...</td>\n",
       "    </tr>\n",
       "    <tr>\n",
       "      <th>15718</th>\n",
       "      <td>NaN</td>\n",
       "      <td>NaN</td>\n",
       "    </tr>\n",
       "    <tr>\n",
       "      <th>15719</th>\n",
       "      <td>NaN</td>\n",
       "      <td>NaN</td>\n",
       "    </tr>\n",
       "    <tr>\n",
       "      <th>15720</th>\n",
       "      <td>NaN</td>\n",
       "      <td>NaN</td>\n",
       "    </tr>\n",
       "    <tr>\n",
       "      <th>15721</th>\n",
       "      <td>NaN</td>\n",
       "      <td>NaN</td>\n",
       "    </tr>\n",
       "    <tr>\n",
       "      <th>15722</th>\n",
       "      <td>NaN</td>\n",
       "      <td>NaN</td>\n",
       "    </tr>\n",
       "  </tbody>\n",
       "</table>\n",
       "<p>15723 rows × 2 columns</p>\n",
       "</div>"
      ],
      "text/plain": [
       "           NAME   AGE\n",
       "0          Dett  18.0\n",
       "1         Nern   19.0\n",
       "2       Kallsie  20.0\n",
       "3         Siuau  21.0\n",
       "4      Shennice  22.0\n",
       "...         ...   ...\n",
       "15718       NaN   NaN\n",
       "15719       NaN   NaN\n",
       "15720       NaN   NaN\n",
       "15721       NaN   NaN\n",
       "15722       NaN   NaN\n",
       "\n",
       "[15723 rows x 2 columns]"
      ]
     },
     "execution_count": 37,
     "metadata": {},
     "output_type": "execute_result"
    }
   ],
   "source": [
    "df[[\"NAME\",\"AGE\"]]  #This is a shortcut to access any column with the help of their name. "
   ]
  },
  {
   "cell_type": "code",
   "execution_count": 38,
   "id": "0e3b9232-9ff3-4eba-8f88-2b2a7e760a8b",
   "metadata": {},
   "outputs": [
    {
     "data": {
      "text/plain": [
       "0            Dett\n",
       "1           Nern \n",
       "2         Kallsie\n",
       "3           Siuau\n",
       "4        Shennice\n",
       "           ...   \n",
       "15718         NaN\n",
       "15719         NaN\n",
       "15720         NaN\n",
       "15721         NaN\n",
       "15722         NaN\n",
       "Name: NAME, Length: 15723, dtype: object"
      ]
     },
     "execution_count": 38,
     "metadata": {},
     "output_type": "execute_result"
    }
   ],
   "source": [
    "df.loc[:,\"NAME\"]   #It will produce series "
   ]
  },
  {
   "cell_type": "code",
   "execution_count": 39,
   "id": "560ef8d0-cb93-43d7-bdf8-d5991b026eae",
   "metadata": {},
   "outputs": [
    {
     "data": {
      "text/html": [
       "<div>\n",
       "<style scoped>\n",
       "    .dataframe tbody tr th:only-of-type {\n",
       "        vertical-align: middle;\n",
       "    }\n",
       "\n",
       "    .dataframe tbody tr th {\n",
       "        vertical-align: top;\n",
       "    }\n",
       "\n",
       "    .dataframe thead th {\n",
       "        text-align: right;\n",
       "    }\n",
       "</style>\n",
       "<table border=\"1\" class=\"dataframe\">\n",
       "  <thead>\n",
       "    <tr style=\"text-align: right;\">\n",
       "      <th></th>\n",
       "      <th>NAME</th>\n",
       "    </tr>\n",
       "  </thead>\n",
       "  <tbody>\n",
       "    <tr>\n",
       "      <th>0</th>\n",
       "      <td>Dett</td>\n",
       "    </tr>\n",
       "    <tr>\n",
       "      <th>1</th>\n",
       "      <td>Nern</td>\n",
       "    </tr>\n",
       "    <tr>\n",
       "      <th>2</th>\n",
       "      <td>Kallsie</td>\n",
       "    </tr>\n",
       "    <tr>\n",
       "      <th>3</th>\n",
       "      <td>Siuau</td>\n",
       "    </tr>\n",
       "    <tr>\n",
       "      <th>4</th>\n",
       "      <td>Shennice</td>\n",
       "    </tr>\n",
       "    <tr>\n",
       "      <th>...</th>\n",
       "      <td>...</td>\n",
       "    </tr>\n",
       "    <tr>\n",
       "      <th>15718</th>\n",
       "      <td>NaN</td>\n",
       "    </tr>\n",
       "    <tr>\n",
       "      <th>15719</th>\n",
       "      <td>NaN</td>\n",
       "    </tr>\n",
       "    <tr>\n",
       "      <th>15720</th>\n",
       "      <td>NaN</td>\n",
       "    </tr>\n",
       "    <tr>\n",
       "      <th>15721</th>\n",
       "      <td>NaN</td>\n",
       "    </tr>\n",
       "    <tr>\n",
       "      <th>15722</th>\n",
       "      <td>NaN</td>\n",
       "    </tr>\n",
       "  </tbody>\n",
       "</table>\n",
       "<p>15723 rows × 1 columns</p>\n",
       "</div>"
      ],
      "text/plain": [
       "           NAME\n",
       "0          Dett\n",
       "1         Nern \n",
       "2       Kallsie\n",
       "3         Siuau\n",
       "4      Shennice\n",
       "...         ...\n",
       "15718       NaN\n",
       "15719       NaN\n",
       "15720       NaN\n",
       "15721       NaN\n",
       "15722       NaN\n",
       "\n",
       "[15723 rows x 1 columns]"
      ]
     },
     "execution_count": 39,
     "metadata": {},
     "output_type": "execute_result"
    }
   ],
   "source": [
    "df.loc[:,[\"NAME\"]]  "
   ]
  },
  {
   "cell_type": "code",
   "execution_count": 40,
   "id": "fb01823c-4bdd-43cf-8f39-7213ed44a197",
   "metadata": {},
   "outputs": [
    {
     "data": {
      "text/html": [
       "<div>\n",
       "<style scoped>\n",
       "    .dataframe tbody tr th:only-of-type {\n",
       "        vertical-align: middle;\n",
       "    }\n",
       "\n",
       "    .dataframe tbody tr th {\n",
       "        vertical-align: top;\n",
       "    }\n",
       "\n",
       "    .dataframe thead th {\n",
       "        text-align: right;\n",
       "    }\n",
       "</style>\n",
       "<table border=\"1\" class=\"dataframe\">\n",
       "  <thead>\n",
       "    <tr style=\"text-align: right;\">\n",
       "      <th></th>\n",
       "      <th>SR.</th>\n",
       "      <th>NAME</th>\n",
       "      <th>GENDER</th>\n",
       "      <th>AGE</th>\n",
       "      <th>DATE</th>\n",
       "      <th>COUNTRY</th>\n",
       "    </tr>\n",
       "  </thead>\n",
       "  <tbody>\n",
       "    <tr>\n",
       "      <th>0</th>\n",
       "      <td>1.0</td>\n",
       "      <td>Dett</td>\n",
       "      <td>Male</td>\n",
       "      <td>18.0</td>\n",
       "      <td>21/05/2015</td>\n",
       "      <td>Great Britain</td>\n",
       "    </tr>\n",
       "    <tr>\n",
       "      <th>1</th>\n",
       "      <td>2.0</td>\n",
       "      <td>Nern</td>\n",
       "      <td>Female</td>\n",
       "      <td>19.0</td>\n",
       "      <td>15/10/2017</td>\n",
       "      <td>France</td>\n",
       "    </tr>\n",
       "    <tr>\n",
       "      <th>2</th>\n",
       "      <td>3.0</td>\n",
       "      <td>Kallsie</td>\n",
       "      <td>Male</td>\n",
       "      <td>20.0</td>\n",
       "      <td>16/08/2016</td>\n",
       "      <td>France</td>\n",
       "    </tr>\n",
       "    <tr>\n",
       "      <th>3</th>\n",
       "      <td>4.0</td>\n",
       "      <td>Siuau</td>\n",
       "      <td>Female</td>\n",
       "      <td>21.0</td>\n",
       "      <td>21/05/2015</td>\n",
       "      <td>Great Britain</td>\n",
       "    </tr>\n",
       "    <tr>\n",
       "      <th>4</th>\n",
       "      <td>5.0</td>\n",
       "      <td>Shennice</td>\n",
       "      <td>Male</td>\n",
       "      <td>22.0</td>\n",
       "      <td>21/05/2016</td>\n",
       "      <td>France</td>\n",
       "    </tr>\n",
       "  </tbody>\n",
       "</table>\n",
       "</div>"
      ],
      "text/plain": [
       "   SR.      NAME  GENDER   AGE       DATE         COUNTRY\n",
       "0  1.0      Dett    Male  18.0  21/05/2015  Great Britain\n",
       "1  2.0     Nern   Female  19.0  15/10/2017         France\n",
       "2  3.0   Kallsie    Male  20.0  16/08/2016         France\n",
       "3  4.0     Siuau  Female  21.0  21/05/2015  Great Britain\n",
       "4  5.0  Shennice    Male  22.0  21/05/2016         France"
      ]
     },
     "execution_count": 40,
     "metadata": {},
     "output_type": "execute_result"
    }
   ],
   "source": [
    "df.iloc[0:5]   #will give first 5 rows and all columns"
   ]
  },
  {
   "cell_type": "markdown",
   "id": "e1eb41f1",
   "metadata": {},
   "source": [
    "some other function of pandas"
   ]
  },
  {
   "cell_type": "code",
   "execution_count": 41,
   "id": "8fb7e17f",
   "metadata": {},
   "outputs": [
    {
     "data": {
      "text/plain": [
       "65.0"
      ]
     },
     "execution_count": 41,
     "metadata": {},
     "output_type": "execute_result"
    }
   ],
   "source": [
    "df[\"AGE\"].max()"
   ]
  },
  {
   "cell_type": "markdown",
   "id": "ffa36c58",
   "metadata": {},
   "source": [
    "If we want to know maximum age alog with the person name"
   ]
  },
  {
   "cell_type": "code",
   "execution_count": 42,
   "id": "cbb9869b",
   "metadata": {},
   "outputs": [
    {
     "data": {
      "text/html": [
       "<div>\n",
       "<style scoped>\n",
       "    .dataframe tbody tr th:only-of-type {\n",
       "        vertical-align: middle;\n",
       "    }\n",
       "\n",
       "    .dataframe tbody tr th {\n",
       "        vertical-align: top;\n",
       "    }\n",
       "\n",
       "    .dataframe thead th {\n",
       "        text-align: right;\n",
       "    }\n",
       "</style>\n",
       "<table border=\"1\" class=\"dataframe\">\n",
       "  <thead>\n",
       "    <tr style=\"text-align: right;\">\n",
       "      <th></th>\n",
       "      <th>index</th>\n",
       "      <th>NAME</th>\n",
       "      <th>AGE</th>\n",
       "    </tr>\n",
       "  </thead>\n",
       "  <tbody>\n",
       "    <tr>\n",
       "      <th>0</th>\n",
       "      <td>47</td>\n",
       "      <td>Rashid</td>\n",
       "      <td>65.0</td>\n",
       "    </tr>\n",
       "    <tr>\n",
       "      <th>1</th>\n",
       "      <td>95</td>\n",
       "      <td>Rashid</td>\n",
       "      <td>65.0</td>\n",
       "    </tr>\n",
       "    <tr>\n",
       "      <th>2</th>\n",
       "      <td>143</td>\n",
       "      <td>Rashid</td>\n",
       "      <td>65.0</td>\n",
       "    </tr>\n",
       "    <tr>\n",
       "      <th>3</th>\n",
       "      <td>191</td>\n",
       "      <td>Rashid</td>\n",
       "      <td>65.0</td>\n",
       "    </tr>\n",
       "    <tr>\n",
       "      <th>4</th>\n",
       "      <td>239</td>\n",
       "      <td>Rashid</td>\n",
       "      <td>65.0</td>\n",
       "    </tr>\n",
       "    <tr>\n",
       "      <th>...</th>\n",
       "      <td>...</td>\n",
       "      <td>...</td>\n",
       "      <td>...</td>\n",
       "    </tr>\n",
       "    <tr>\n",
       "      <th>59</th>\n",
       "      <td>2420</td>\n",
       "      <td>Rashid</td>\n",
       "      <td>65.0</td>\n",
       "    </tr>\n",
       "    <tr>\n",
       "      <th>60</th>\n",
       "      <td>2451</td>\n",
       "      <td>Rashid</td>\n",
       "      <td>65.0</td>\n",
       "    </tr>\n",
       "    <tr>\n",
       "      <th>61</th>\n",
       "      <td>2482</td>\n",
       "      <td>Rashid</td>\n",
       "      <td>65.0</td>\n",
       "    </tr>\n",
       "    <tr>\n",
       "      <th>62</th>\n",
       "      <td>2513</td>\n",
       "      <td>Rashid</td>\n",
       "      <td>65.0</td>\n",
       "    </tr>\n",
       "    <tr>\n",
       "      <th>63</th>\n",
       "      <td>2544</td>\n",
       "      <td>Rashid</td>\n",
       "      <td>65.0</td>\n",
       "    </tr>\n",
       "  </tbody>\n",
       "</table>\n",
       "<p>64 rows × 3 columns</p>\n",
       "</div>"
      ],
      "text/plain": [
       "    index    NAME   AGE\n",
       "0      47  Rashid  65.0\n",
       "1      95  Rashid  65.0\n",
       "2     143  Rashid  65.0\n",
       "3     191  Rashid  65.0\n",
       "4     239  Rashid  65.0\n",
       "..    ...     ...   ...\n",
       "59   2420  Rashid  65.0\n",
       "60   2451  Rashid  65.0\n",
       "61   2482  Rashid  65.0\n",
       "62   2513  Rashid  65.0\n",
       "63   2544  Rashid  65.0\n",
       "\n",
       "[64 rows x 3 columns]"
      ]
     },
     "execution_count": 42,
     "metadata": {},
     "output_type": "execute_result"
    }
   ],
   "source": [
    "df.loc[df[\"AGE\"]==df[\"AGE\"].max(),[\"NAME\",\"AGE\"]].reset_index()"
   ]
  },
  {
   "cell_type": "code",
   "execution_count": 43,
   "id": "f1dab9af",
   "metadata": {},
   "outputs": [
    {
     "data": {
      "text/html": [
       "<div>\n",
       "<style scoped>\n",
       "    .dataframe tbody tr th:only-of-type {\n",
       "        vertical-align: middle;\n",
       "    }\n",
       "\n",
       "    .dataframe tbody tr th {\n",
       "        vertical-align: top;\n",
       "    }\n",
       "\n",
       "    .dataframe thead th {\n",
       "        text-align: right;\n",
       "    }\n",
       "</style>\n",
       "<table border=\"1\" class=\"dataframe\">\n",
       "  <thead>\n",
       "    <tr style=\"text-align: right;\">\n",
       "      <th></th>\n",
       "      <th>index</th>\n",
       "      <th>NAME</th>\n",
       "    </tr>\n",
       "  </thead>\n",
       "  <tbody>\n",
       "    <tr>\n",
       "      <th>0</th>\n",
       "      <td>47</td>\n",
       "      <td>Rashid</td>\n",
       "    </tr>\n",
       "    <tr>\n",
       "      <th>1</th>\n",
       "      <td>95</td>\n",
       "      <td>Rashid</td>\n",
       "    </tr>\n",
       "    <tr>\n",
       "      <th>2</th>\n",
       "      <td>143</td>\n",
       "      <td>Rashid</td>\n",
       "    </tr>\n",
       "    <tr>\n",
       "      <th>3</th>\n",
       "      <td>191</td>\n",
       "      <td>Rashid</td>\n",
       "    </tr>\n",
       "    <tr>\n",
       "      <th>4</th>\n",
       "      <td>239</td>\n",
       "      <td>Rashid</td>\n",
       "    </tr>\n",
       "    <tr>\n",
       "      <th>...</th>\n",
       "      <td>...</td>\n",
       "      <td>...</td>\n",
       "    </tr>\n",
       "    <tr>\n",
       "      <th>59</th>\n",
       "      <td>2420</td>\n",
       "      <td>Rashid</td>\n",
       "    </tr>\n",
       "    <tr>\n",
       "      <th>60</th>\n",
       "      <td>2451</td>\n",
       "      <td>Rashid</td>\n",
       "    </tr>\n",
       "    <tr>\n",
       "      <th>61</th>\n",
       "      <td>2482</td>\n",
       "      <td>Rashid</td>\n",
       "    </tr>\n",
       "    <tr>\n",
       "      <th>62</th>\n",
       "      <td>2513</td>\n",
       "      <td>Rashid</td>\n",
       "    </tr>\n",
       "    <tr>\n",
       "      <th>63</th>\n",
       "      <td>2544</td>\n",
       "      <td>Rashid</td>\n",
       "    </tr>\n",
       "  </tbody>\n",
       "</table>\n",
       "<p>64 rows × 2 columns</p>\n",
       "</div>"
      ],
      "text/plain": [
       "    index    NAME\n",
       "0      47  Rashid\n",
       "1      95  Rashid\n",
       "2     143  Rashid\n",
       "3     191  Rashid\n",
       "4     239  Rashid\n",
       "..    ...     ...\n",
       "59   2420  Rashid\n",
       "60   2451  Rashid\n",
       "61   2482  Rashid\n",
       "62   2513  Rashid\n",
       "63   2544  Rashid\n",
       "\n",
       "[64 rows x 2 columns]"
      ]
     },
     "execution_count": 43,
     "metadata": {},
     "output_type": "execute_result"
    }
   ],
   "source": [
    "df[\"NAME\"][df[\"AGE\"]==df[\"AGE\"].max()].reset_index()  #Alternate way to do the same"
   ]
  },
  {
   "cell_type": "code",
   "execution_count": 44,
   "id": "2eba3e11",
   "metadata": {},
   "outputs": [
    {
     "data": {
      "text/plain": [
       "18.0"
      ]
     },
     "execution_count": 44,
     "metadata": {},
     "output_type": "execute_result"
    }
   ],
   "source": [
    "df[\"AGE\"].min()"
   ]
  },
  {
   "cell_type": "code",
   "execution_count": 45,
   "id": "ef7f8314",
   "metadata": {},
   "outputs": [
    {
     "data": {
      "text/plain": [
       "23       Dorcast\n",
       "24       Angelee\n",
       "25       Willoom\n",
       "26       Waeston\n",
       "27         Rosma\n",
       "          ...   \n",
       "2556    Felisaas\n",
       "2557     Demetas\n",
       "2558     Jeromyw\n",
       "2559      Rashid\n",
       "2560        Dett\n",
       "Name: NAME, Length: 1610, dtype: object"
      ]
     },
     "execution_count": 45,
     "metadata": {},
     "output_type": "execute_result"
    }
   ],
   "source": [
    "df[\"NAME\"][df[\"AGE\"]>40.0]"
   ]
  },
  {
   "cell_type": "code",
   "execution_count": 46,
   "id": "6ddf3060",
   "metadata": {},
   "outputs": [
    {
     "data": {
      "text/plain": [
       "1          Nern \n",
       "2        Kallsie\n",
       "4       Shennice\n",
       "5         Chasse\n",
       "9        Willoom\n",
       "          ...   \n",
       "2552     Angelee\n",
       "2553     Willoom\n",
       "2557     Demetas\n",
       "2559      Rashid\n",
       "2560        Dett\n",
       "Name: NAME, Length: 1265, dtype: object"
      ]
     },
     "execution_count": 46,
     "metadata": {},
     "output_type": "execute_result"
    }
   ],
   "source": [
    "df[\"NAME\"][df[\"COUNTRY\"]==\"France\"]"
   ]
  },
  {
   "cell_type": "code",
   "execution_count": 47,
   "id": "3e7874de",
   "metadata": {},
   "outputs": [
    {
     "data": {
      "text/plain": [
       "44.69582194455291"
      ]
     },
     "execution_count": 47,
     "metadata": {},
     "output_type": "execute_result"
    }
   ],
   "source": [
    "df[\"AGE\"].mean()"
   ]
  },
  {
   "cell_type": "code",
   "execution_count": 48,
   "id": "83d37ef7",
   "metadata": {},
   "outputs": [
    {
     "data": {
      "text/html": [
       "<div>\n",
       "<style scoped>\n",
       "    .dataframe tbody tr th:only-of-type {\n",
       "        vertical-align: middle;\n",
       "    }\n",
       "\n",
       "    .dataframe tbody tr th {\n",
       "        vertical-align: top;\n",
       "    }\n",
       "\n",
       "    .dataframe thead th {\n",
       "        text-align: right;\n",
       "    }\n",
       "</style>\n",
       "<table border=\"1\" class=\"dataframe\">\n",
       "  <thead>\n",
       "    <tr style=\"text-align: right;\">\n",
       "      <th></th>\n",
       "      <th>NAME</th>\n",
       "      <th>AGE</th>\n",
       "    </tr>\n",
       "  </thead>\n",
       "  <tbody>\n",
       "    <tr>\n",
       "      <th>1</th>\n",
       "      <td>Nern</td>\n",
       "      <td>19.0</td>\n",
       "    </tr>\n",
       "    <tr>\n",
       "      <th>2</th>\n",
       "      <td>Kallsie</td>\n",
       "      <td>20.0</td>\n",
       "    </tr>\n",
       "    <tr>\n",
       "      <th>4</th>\n",
       "      <td>Shennice</td>\n",
       "      <td>22.0</td>\n",
       "    </tr>\n",
       "    <tr>\n",
       "      <th>5</th>\n",
       "      <td>Chasse</td>\n",
       "      <td>23.0</td>\n",
       "    </tr>\n",
       "    <tr>\n",
       "      <th>9</th>\n",
       "      <td>Willoom</td>\n",
       "      <td>27.0</td>\n",
       "    </tr>\n",
       "    <tr>\n",
       "      <th>...</th>\n",
       "      <td>...</td>\n",
       "      <td>...</td>\n",
       "    </tr>\n",
       "    <tr>\n",
       "      <th>2552</th>\n",
       "      <td>Angelee</td>\n",
       "      <td>42.0</td>\n",
       "    </tr>\n",
       "    <tr>\n",
       "      <th>2553</th>\n",
       "      <td>Willoom</td>\n",
       "      <td>43.0</td>\n",
       "    </tr>\n",
       "    <tr>\n",
       "      <th>2557</th>\n",
       "      <td>Demetas</td>\n",
       "      <td>47.0</td>\n",
       "    </tr>\n",
       "    <tr>\n",
       "      <th>2559</th>\n",
       "      <td>Rashid</td>\n",
       "      <td>49.0</td>\n",
       "    </tr>\n",
       "    <tr>\n",
       "      <th>2560</th>\n",
       "      <td>Dett</td>\n",
       "      <td>50.0</td>\n",
       "    </tr>\n",
       "  </tbody>\n",
       "</table>\n",
       "<p>1265 rows × 2 columns</p>\n",
       "</div>"
      ],
      "text/plain": [
       "          NAME   AGE\n",
       "1        Nern   19.0\n",
       "2      Kallsie  20.0\n",
       "4     Shennice  22.0\n",
       "5       Chasse  23.0\n",
       "9      Willoom  27.0\n",
       "...        ...   ...\n",
       "2552   Angelee  42.0\n",
       "2553   Willoom  43.0\n",
       "2557   Demetas  47.0\n",
       "2559    Rashid  49.0\n",
       "2560      Dett  50.0\n",
       "\n",
       "[1265 rows x 2 columns]"
      ]
     },
     "execution_count": 48,
     "metadata": {},
     "output_type": "execute_result"
    }
   ],
   "source": [
    "df.loc[df[\"COUNTRY\"]==\"France\",[\"NAME\",\"AGE\"]]"
   ]
  },
  {
   "cell_type": "code",
   "execution_count": null,
   "id": "b447778a",
   "metadata": {},
   "outputs": [],
   "source": []
  }
 ],
 "metadata": {
  "kernelspec": {
   "display_name": "Python 3 (ipykernel)",
   "language": "python",
   "name": "python3"
  },
  "language_info": {
   "codemirror_mode": {
    "name": "ipython",
    "version": 3
   },
   "file_extension": ".py",
   "mimetype": "text/x-python",
   "name": "python",
   "nbconvert_exporter": "python",
   "pygments_lexer": "ipython3",
   "version": "3.10.9"
  }
 },
 "nbformat": 4,
 "nbformat_minor": 5
}

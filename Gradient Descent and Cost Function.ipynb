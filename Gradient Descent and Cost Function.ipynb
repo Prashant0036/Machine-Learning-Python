{
 "cells": [
  {
   "cell_type": "markdown",
   "id": "e36669f1",
   "metadata": {},
   "source": [
    "### Gradient descent is an algorithm that finds best fit line for given training data set\n"
   ]
  },
  {
   "cell_type": "code",
   "execution_count": null,
   "id": "78a4c143",
   "metadata": {},
   "outputs": [],
   "source": [
    "1+2"
   ]
  },
  {
   "cell_type": "code",
   "execution_count": null,
   "id": "b42cae6b",
   "metadata": {},
   "outputs": [],
   "source": [
    "from flask import Flask, request,jsonify\n",
    "app=Flask(__name__)\n",
    "@app.route('/hello')\n",
    "def hello():\n",
    "    return \"Hi\"\n",
    "if __name__ == \"__main__\":\n",
    "    print(\"Starting Python Flask Server For Home Price Prediction...\")\n",
    "    app.run()"
   ]
  },
  {
   "cell_type": "code",
   "execution_count": null,
   "id": "d125acc9",
   "metadata": {},
   "outputs": [],
   "source": []
  }
 ],
 "metadata": {
  "kernelspec": {
   "display_name": "Python 3 (ipykernel)",
   "language": "python",
   "name": "python3"
  },
  "language_info": {
   "codemirror_mode": {
    "name": "ipython",
    "version": 3
   },
   "file_extension": ".py",
   "mimetype": "text/x-python",
   "name": "python",
   "nbconvert_exporter": "python",
   "pygments_lexer": "ipython3",
   "version": "3.10.9"
  }
 },
 "nbformat": 4,
 "nbformat_minor": 5
}

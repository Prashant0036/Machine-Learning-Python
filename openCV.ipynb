{
 "cells": [
  {
   "cell_type": "code",
   "execution_count": 3,
   "id": "2c86382b",
   "metadata": {},
   "outputs": [],
   "source": [
    "import cv2"
   ]
  },
  {
   "cell_type": "code",
   "execution_count": 4,
   "id": "1ed424d7",
   "metadata": {},
   "outputs": [],
   "source": [
    "path=\"D:\\my code\\Machine Learning\\CIC\\client\\hardik pandya\\hpbat.jpg\"\n",
    "img=cv2.imread(path)"
   ]
  },
  {
   "cell_type": "code",
   "execution_count": 5,
   "id": "272829b2",
   "metadata": {},
   "outputs": [],
   "source": [
    "cv2.imshow(\"hp\",img)"
   ]
  },
  {
   "cell_type": "code",
   "execution_count": 1,
   "id": "3cce10c7",
   "metadata": {},
   "outputs": [],
   "source": [
    "from PIL import Image\n",
    "path1 = path of folder of images    \n",
    "path2 = path of folder to save images    \n",
    "\n",
    "listing = os.listdir(path1)    \n",
    "for file in listing:\n",
    "    im = Image.open(path1 + file)    \n",
    "    im.resize((50,50))                % need to do some more processing here             \n",
    "    im.save(path2 + file, \"JPEG\")"
   ]
  },
  {
   "cell_type": "code",
   "execution_count": null,
   "id": "1d1b566f",
   "metadata": {},
   "outputs": [],
   "source": []
  }
 ],
 "metadata": {
  "kernelspec": {
   "display_name": "Python 3 (ipykernel)",
   "language": "python",
   "name": "python3"
  },
  "language_info": {
   "codemirror_mode": {
    "name": "ipython",
    "version": 3
   },
   "file_extension": ".py",
   "mimetype": "text/x-python",
   "name": "python",
   "nbconvert_exporter": "python",
   "pygments_lexer": "ipython3",
   "version": "3.10.9"
  }
 },
 "nbformat": 4,
 "nbformat_minor": 5
}

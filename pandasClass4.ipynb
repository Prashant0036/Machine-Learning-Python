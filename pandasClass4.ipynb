{
 "cells": [
  {
   "cell_type": "code",
   "execution_count": 2,
   "id": "7d9b9696",
   "metadata": {},
   "outputs": [],
   "source": [
    "import pandas as pd"
   ]
  },
  {
   "cell_type": "code",
   "execution_count": 13,
   "id": "0103fbb7",
   "metadata": {},
   "outputs": [],
   "source": [
    "df = pd.DataFrame({\"No.\":[1,2,3,4,5,6,7,8,9],\"Jan\":[12,45,23,42,43,23,76,36,87],\"Fab\":[50,28,34,43,23,76,35,24,65], \"Mar\":[12,41,23,49,43,22,76,36,87],\"April\":[50,28,34,43,13,76,35,64,65]})"
   ]
  },
  {
   "cell_type": "code",
   "execution_count": 14,
   "id": "c6f61c2b",
   "metadata": {},
   "outputs": [
    {
     "data": {
      "text/html": [
       "<div>\n",
       "<style scoped>\n",
       "    .dataframe tbody tr th:only-of-type {\n",
       "        vertical-align: middle;\n",
       "    }\n",
       "\n",
       "    .dataframe tbody tr th {\n",
       "        vertical-align: top;\n",
       "    }\n",
       "\n",
       "    .dataframe thead th {\n",
       "        text-align: right;\n",
       "    }\n",
       "</style>\n",
       "<table border=\"1\" class=\"dataframe\">\n",
       "  <thead>\n",
       "    <tr style=\"text-align: right;\">\n",
       "      <th></th>\n",
       "      <th>No.</th>\n",
       "      <th>Jan</th>\n",
       "      <th>Fab</th>\n",
       "      <th>Mar</th>\n",
       "      <th>April</th>\n",
       "    </tr>\n",
       "  </thead>\n",
       "  <tbody>\n",
       "    <tr>\n",
       "      <th>0</th>\n",
       "      <td>1</td>\n",
       "      <td>12</td>\n",
       "      <td>50</td>\n",
       "      <td>12</td>\n",
       "      <td>50</td>\n",
       "    </tr>\n",
       "    <tr>\n",
       "      <th>1</th>\n",
       "      <td>2</td>\n",
       "      <td>45</td>\n",
       "      <td>28</td>\n",
       "      <td>41</td>\n",
       "      <td>28</td>\n",
       "    </tr>\n",
       "    <tr>\n",
       "      <th>2</th>\n",
       "      <td>3</td>\n",
       "      <td>23</td>\n",
       "      <td>34</td>\n",
       "      <td>23</td>\n",
       "      <td>34</td>\n",
       "    </tr>\n",
       "    <tr>\n",
       "      <th>3</th>\n",
       "      <td>4</td>\n",
       "      <td>42</td>\n",
       "      <td>43</td>\n",
       "      <td>49</td>\n",
       "      <td>43</td>\n",
       "    </tr>\n",
       "    <tr>\n",
       "      <th>4</th>\n",
       "      <td>5</td>\n",
       "      <td>43</td>\n",
       "      <td>23</td>\n",
       "      <td>43</td>\n",
       "      <td>13</td>\n",
       "    </tr>\n",
       "  </tbody>\n",
       "</table>\n",
       "</div>"
      ],
      "text/plain": [
       "   No.  Jan  Fab  Mar  April\n",
       "0    1   12   50   12     50\n",
       "1    2   45   28   41     28\n",
       "2    3   23   34   23     34\n",
       "3    4   42   43   49     43\n",
       "4    5   43   23   43     13"
      ]
     },
     "execution_count": 14,
     "metadata": {},
     "output_type": "execute_result"
    }
   ],
   "source": [
    "df.head()"
   ]
  },
  {
   "cell_type": "code",
   "execution_count": 15,
   "id": "dd28ef81",
   "metadata": {},
   "outputs": [
    {
     "data": {
      "text/plain": [
       "43.0"
      ]
     },
     "execution_count": 15,
     "metadata": {},
     "output_type": "execute_result"
    }
   ],
   "source": [
    "df[\"Jan\"].mean()"
   ]
  },
  {
   "cell_type": "markdown",
   "id": "c2c9f5d4",
   "metadata": {},
   "source": [
    "> If you want to get mean or perform any other operation vertically :"
   ]
  },
  {
   "cell_type": "code",
   "execution_count": 16,
   "id": "e8261829",
   "metadata": {},
   "outputs": [
    {
     "data": {
      "text/plain": [
       "No.       5.000000\n",
       "Jan      43.000000\n",
       "Fab      42.000000\n",
       "Mar      43.222222\n",
       "April    45.333333\n",
       "dtype: float64"
      ]
     },
     "execution_count": 16,
     "metadata": {},
     "output_type": "execute_result"
    }
   ],
   "source": [
    "df.apply(\"mean\",axis=0)  #axis=0 is default"
   ]
  },
  {
   "cell_type": "markdown",
   "id": "a01740ad",
   "metadata": {},
   "source": [
    "> If you want to get mean or perform any other operation Horizontally :"
   ]
  },
  {
   "cell_type": "code",
   "execution_count": 19,
   "id": "8885d805",
   "metadata": {},
   "outputs": [
    {
     "data": {
      "text/plain": [
       "0    50\n",
       "1    45\n",
       "2    34\n",
       "3    49\n",
       "4    43\n",
       "5    76\n",
       "6    76\n",
       "7    64\n",
       "8    87\n",
       "dtype: int64"
      ]
     },
     "execution_count": 19,
     "metadata": {},
     "output_type": "execute_result"
    }
   ],
   "source": [
    "df.apply(\"max\",axis=1)  #axis=1 to perform horizontally"
   ]
  },
  {
   "cell_type": "code",
   "execution_count": 22,
   "id": "396f1a79",
   "metadata": {},
   "outputs": [
    {
     "data": {
      "text/html": [
       "<div>\n",
       "<style scoped>\n",
       "    .dataframe tbody tr th:only-of-type {\n",
       "        vertical-align: middle;\n",
       "    }\n",
       "\n",
       "    .dataframe tbody tr th {\n",
       "        vertical-align: top;\n",
       "    }\n",
       "\n",
       "    .dataframe thead th {\n",
       "        text-align: right;\n",
       "    }\n",
       "</style>\n",
       "<table border=\"1\" class=\"dataframe\">\n",
       "  <thead>\n",
       "    <tr style=\"text-align: right;\">\n",
       "      <th></th>\n",
       "      <th>Jan</th>\n",
       "      <th>Fab</th>\n",
       "    </tr>\n",
       "    <tr>\n",
       "      <th>No.</th>\n",
       "      <th></th>\n",
       "      <th></th>\n",
       "    </tr>\n",
       "  </thead>\n",
       "  <tbody>\n",
       "    <tr>\n",
       "      <th>1</th>\n",
       "      <td>12.0</td>\n",
       "      <td>50.0</td>\n",
       "    </tr>\n",
       "    <tr>\n",
       "      <th>2</th>\n",
       "      <td>45.0</td>\n",
       "      <td>28.0</td>\n",
       "    </tr>\n",
       "    <tr>\n",
       "      <th>3</th>\n",
       "      <td>23.0</td>\n",
       "      <td>34.0</td>\n",
       "    </tr>\n",
       "    <tr>\n",
       "      <th>4</th>\n",
       "      <td>42.0</td>\n",
       "      <td>43.0</td>\n",
       "    </tr>\n",
       "    <tr>\n",
       "      <th>5</th>\n",
       "      <td>43.0</td>\n",
       "      <td>23.0</td>\n",
       "    </tr>\n",
       "    <tr>\n",
       "      <th>6</th>\n",
       "      <td>23.0</td>\n",
       "      <td>76.0</td>\n",
       "    </tr>\n",
       "    <tr>\n",
       "      <th>7</th>\n",
       "      <td>76.0</td>\n",
       "      <td>35.0</td>\n",
       "    </tr>\n",
       "    <tr>\n",
       "      <th>8</th>\n",
       "      <td>36.0</td>\n",
       "      <td>24.0</td>\n",
       "    </tr>\n",
       "    <tr>\n",
       "      <th>9</th>\n",
       "      <td>87.0</td>\n",
       "      <td>65.0</td>\n",
       "    </tr>\n",
       "  </tbody>\n",
       "</table>\n",
       "</div>"
      ],
      "text/plain": [
       "      Jan   Fab\n",
       "No.            \n",
       "1    12.0  50.0\n",
       "2    45.0  28.0\n",
       "3    23.0  34.0\n",
       "4    42.0  43.0\n",
       "5    43.0  23.0\n",
       "6    23.0  76.0\n",
       "7    76.0  35.0\n",
       "8    36.0  24.0\n",
       "9    87.0  65.0"
      ]
     },
     "execution_count": 22,
     "metadata": {},
     "output_type": "execute_result"
    }
   ],
   "source": [
    "df.groupby(\"No.\")[[\"Jan\",\"Fab\"]].mean()"
   ]
  },
  {
   "cell_type": "markdown",
   "id": "9271b445",
   "metadata": {},
   "source": [
    "> If I want to remark the January monthly sales of every store, then I'll add a new column using numpy."
   ]
  },
  {
   "cell_type": "code",
   "execution_count": 23,
   "id": "a04fb593",
   "metadata": {},
   "outputs": [],
   "source": [
    "import numpy as np\n",
    "dfWithRemarks=np.where(df[\"Jan\"]>=30,\"Good\",\"Not Good\")"
   ]
  },
  {
   "cell_type": "code",
   "execution_count": 26,
   "id": "5b2057f9",
   "metadata": {},
   "outputs": [
    {
     "data": {
      "text/plain": [
       "array(['Not Good', 'Good', 'Not Good', 'Good', 'Good', 'Not Good', 'Good',\n",
       "       'Good', 'Good'], dtype='<U8')"
      ]
     },
     "execution_count": 26,
     "metadata": {},
     "output_type": "execute_result"
    }
   ],
   "source": [
    "dfWithRemarks"
   ]
  },
  {
   "cell_type": "code",
   "execution_count": 27,
   "id": "b0331bce",
   "metadata": {},
   "outputs": [
    {
     "data": {
      "text/html": [
       "<div>\n",
       "<style scoped>\n",
       "    .dataframe tbody tr th:only-of-type {\n",
       "        vertical-align: middle;\n",
       "    }\n",
       "\n",
       "    .dataframe tbody tr th {\n",
       "        vertical-align: top;\n",
       "    }\n",
       "\n",
       "    .dataframe thead th {\n",
       "        text-align: right;\n",
       "    }\n",
       "</style>\n",
       "<table border=\"1\" class=\"dataframe\">\n",
       "  <thead>\n",
       "    <tr style=\"text-align: right;\">\n",
       "      <th></th>\n",
       "      <th>No.</th>\n",
       "      <th>Jan</th>\n",
       "      <th>Fab</th>\n",
       "      <th>Mar</th>\n",
       "      <th>April</th>\n",
       "    </tr>\n",
       "  </thead>\n",
       "  <tbody>\n",
       "    <tr>\n",
       "      <th>0</th>\n",
       "      <td>1</td>\n",
       "      <td>12</td>\n",
       "      <td>50</td>\n",
       "      <td>12</td>\n",
       "      <td>50</td>\n",
       "    </tr>\n",
       "    <tr>\n",
       "      <th>1</th>\n",
       "      <td>2</td>\n",
       "      <td>45</td>\n",
       "      <td>28</td>\n",
       "      <td>41</td>\n",
       "      <td>28</td>\n",
       "    </tr>\n",
       "    <tr>\n",
       "      <th>2</th>\n",
       "      <td>3</td>\n",
       "      <td>23</td>\n",
       "      <td>34</td>\n",
       "      <td>23</td>\n",
       "      <td>34</td>\n",
       "    </tr>\n",
       "    <tr>\n",
       "      <th>3</th>\n",
       "      <td>4</td>\n",
       "      <td>42</td>\n",
       "      <td>43</td>\n",
       "      <td>49</td>\n",
       "      <td>43</td>\n",
       "    </tr>\n",
       "    <tr>\n",
       "      <th>4</th>\n",
       "      <td>5</td>\n",
       "      <td>43</td>\n",
       "      <td>23</td>\n",
       "      <td>43</td>\n",
       "      <td>13</td>\n",
       "    </tr>\n",
       "    <tr>\n",
       "      <th>5</th>\n",
       "      <td>6</td>\n",
       "      <td>23</td>\n",
       "      <td>76</td>\n",
       "      <td>22</td>\n",
       "      <td>76</td>\n",
       "    </tr>\n",
       "    <tr>\n",
       "      <th>6</th>\n",
       "      <td>7</td>\n",
       "      <td>76</td>\n",
       "      <td>35</td>\n",
       "      <td>76</td>\n",
       "      <td>35</td>\n",
       "    </tr>\n",
       "    <tr>\n",
       "      <th>7</th>\n",
       "      <td>8</td>\n",
       "      <td>36</td>\n",
       "      <td>24</td>\n",
       "      <td>36</td>\n",
       "      <td>64</td>\n",
       "    </tr>\n",
       "    <tr>\n",
       "      <th>8</th>\n",
       "      <td>9</td>\n",
       "      <td>87</td>\n",
       "      <td>65</td>\n",
       "      <td>87</td>\n",
       "      <td>65</td>\n",
       "    </tr>\n",
       "  </tbody>\n",
       "</table>\n",
       "</div>"
      ],
      "text/plain": [
       "   No.  Jan  Fab  Mar  April\n",
       "0    1   12   50   12     50\n",
       "1    2   45   28   41     28\n",
       "2    3   23   34   23     34\n",
       "3    4   42   43   49     43\n",
       "4    5   43   23   43     13\n",
       "5    6   23   76   22     76\n",
       "6    7   76   35   76     35\n",
       "7    8   36   24   36     64\n",
       "8    9   87   65   87     65"
      ]
     },
     "execution_count": 27,
     "metadata": {},
     "output_type": "execute_result"
    }
   ],
   "source": [
    "df"
   ]
  },
  {
   "cell_type": "code",
   "execution_count": 28,
   "id": "b65d9c19",
   "metadata": {},
   "outputs": [],
   "source": [
    "df[\"Jan Remarks\"]=dfWithRemarks"
   ]
  },
  {
   "cell_type": "code",
   "execution_count": 29,
   "id": "ccd6c6b9",
   "metadata": {},
   "outputs": [
    {
     "data": {
      "text/html": [
       "<div>\n",
       "<style scoped>\n",
       "    .dataframe tbody tr th:only-of-type {\n",
       "        vertical-align: middle;\n",
       "    }\n",
       "\n",
       "    .dataframe tbody tr th {\n",
       "        vertical-align: top;\n",
       "    }\n",
       "\n",
       "    .dataframe thead th {\n",
       "        text-align: right;\n",
       "    }\n",
       "</style>\n",
       "<table border=\"1\" class=\"dataframe\">\n",
       "  <thead>\n",
       "    <tr style=\"text-align: right;\">\n",
       "      <th></th>\n",
       "      <th>No.</th>\n",
       "      <th>Jan</th>\n",
       "      <th>Fab</th>\n",
       "      <th>Mar</th>\n",
       "      <th>April</th>\n",
       "      <th>Jan Remarks</th>\n",
       "    </tr>\n",
       "  </thead>\n",
       "  <tbody>\n",
       "    <tr>\n",
       "      <th>0</th>\n",
       "      <td>1</td>\n",
       "      <td>12</td>\n",
       "      <td>50</td>\n",
       "      <td>12</td>\n",
       "      <td>50</td>\n",
       "      <td>Not Good</td>\n",
       "    </tr>\n",
       "    <tr>\n",
       "      <th>1</th>\n",
       "      <td>2</td>\n",
       "      <td>45</td>\n",
       "      <td>28</td>\n",
       "      <td>41</td>\n",
       "      <td>28</td>\n",
       "      <td>Good</td>\n",
       "    </tr>\n",
       "    <tr>\n",
       "      <th>2</th>\n",
       "      <td>3</td>\n",
       "      <td>23</td>\n",
       "      <td>34</td>\n",
       "      <td>23</td>\n",
       "      <td>34</td>\n",
       "      <td>Not Good</td>\n",
       "    </tr>\n",
       "    <tr>\n",
       "      <th>3</th>\n",
       "      <td>4</td>\n",
       "      <td>42</td>\n",
       "      <td>43</td>\n",
       "      <td>49</td>\n",
       "      <td>43</td>\n",
       "      <td>Good</td>\n",
       "    </tr>\n",
       "    <tr>\n",
       "      <th>4</th>\n",
       "      <td>5</td>\n",
       "      <td>43</td>\n",
       "      <td>23</td>\n",
       "      <td>43</td>\n",
       "      <td>13</td>\n",
       "      <td>Good</td>\n",
       "    </tr>\n",
       "    <tr>\n",
       "      <th>5</th>\n",
       "      <td>6</td>\n",
       "      <td>23</td>\n",
       "      <td>76</td>\n",
       "      <td>22</td>\n",
       "      <td>76</td>\n",
       "      <td>Not Good</td>\n",
       "    </tr>\n",
       "    <tr>\n",
       "      <th>6</th>\n",
       "      <td>7</td>\n",
       "      <td>76</td>\n",
       "      <td>35</td>\n",
       "      <td>76</td>\n",
       "      <td>35</td>\n",
       "      <td>Good</td>\n",
       "    </tr>\n",
       "    <tr>\n",
       "      <th>7</th>\n",
       "      <td>8</td>\n",
       "      <td>36</td>\n",
       "      <td>24</td>\n",
       "      <td>36</td>\n",
       "      <td>64</td>\n",
       "      <td>Good</td>\n",
       "    </tr>\n",
       "    <tr>\n",
       "      <th>8</th>\n",
       "      <td>9</td>\n",
       "      <td>87</td>\n",
       "      <td>65</td>\n",
       "      <td>87</td>\n",
       "      <td>65</td>\n",
       "      <td>Good</td>\n",
       "    </tr>\n",
       "  </tbody>\n",
       "</table>\n",
       "</div>"
      ],
      "text/plain": [
       "   No.  Jan  Fab  Mar  April Jan Remarks\n",
       "0    1   12   50   12     50    Not Good\n",
       "1    2   45   28   41     28        Good\n",
       "2    3   23   34   23     34    Not Good\n",
       "3    4   42   43   49     43        Good\n",
       "4    5   43   23   43     13        Good\n",
       "5    6   23   76   22     76    Not Good\n",
       "6    7   76   35   76     35        Good\n",
       "7    8   36   24   36     64        Good\n",
       "8    9   87   65   87     65        Good"
      ]
     },
     "execution_count": 29,
     "metadata": {},
     "output_type": "execute_result"
    }
   ],
   "source": [
    "df"
   ]
  },
  {
   "cell_type": "markdown",
   "id": "c7a51024",
   "metadata": {},
   "source": [
    "> Concatenate two dataframes"
   ]
  },
  {
   "cell_type": "code",
   "execution_count": 34,
   "id": "b3769281",
   "metadata": {},
   "outputs": [],
   "source": [
    "newDf=pd.concat([df,df],axis=1) # axis =1 will add df horizontally"
   ]
  },
  {
   "cell_type": "code",
   "execution_count": 35,
   "id": "9b6577e1",
   "metadata": {},
   "outputs": [
    {
     "data": {
      "text/html": [
       "<div>\n",
       "<style scoped>\n",
       "    .dataframe tbody tr th:only-of-type {\n",
       "        vertical-align: middle;\n",
       "    }\n",
       "\n",
       "    .dataframe tbody tr th {\n",
       "        vertical-align: top;\n",
       "    }\n",
       "\n",
       "    .dataframe thead th {\n",
       "        text-align: right;\n",
       "    }\n",
       "</style>\n",
       "<table border=\"1\" class=\"dataframe\">\n",
       "  <thead>\n",
       "    <tr style=\"text-align: right;\">\n",
       "      <th></th>\n",
       "      <th>No.</th>\n",
       "      <th>Jan</th>\n",
       "      <th>Fab</th>\n",
       "      <th>Mar</th>\n",
       "      <th>April</th>\n",
       "      <th>Jan Remarks</th>\n",
       "      <th>No.</th>\n",
       "      <th>Jan</th>\n",
       "      <th>Fab</th>\n",
       "      <th>Mar</th>\n",
       "      <th>April</th>\n",
       "      <th>Jan Remarks</th>\n",
       "    </tr>\n",
       "  </thead>\n",
       "  <tbody>\n",
       "    <tr>\n",
       "      <th>0</th>\n",
       "      <td>1</td>\n",
       "      <td>12</td>\n",
       "      <td>50</td>\n",
       "      <td>12</td>\n",
       "      <td>50</td>\n",
       "      <td>Not Good</td>\n",
       "      <td>1</td>\n",
       "      <td>12</td>\n",
       "      <td>50</td>\n",
       "      <td>12</td>\n",
       "      <td>50</td>\n",
       "      <td>Not Good</td>\n",
       "    </tr>\n",
       "    <tr>\n",
       "      <th>1</th>\n",
       "      <td>2</td>\n",
       "      <td>45</td>\n",
       "      <td>28</td>\n",
       "      <td>41</td>\n",
       "      <td>28</td>\n",
       "      <td>Good</td>\n",
       "      <td>2</td>\n",
       "      <td>45</td>\n",
       "      <td>28</td>\n",
       "      <td>41</td>\n",
       "      <td>28</td>\n",
       "      <td>Good</td>\n",
       "    </tr>\n",
       "    <tr>\n",
       "      <th>2</th>\n",
       "      <td>3</td>\n",
       "      <td>23</td>\n",
       "      <td>34</td>\n",
       "      <td>23</td>\n",
       "      <td>34</td>\n",
       "      <td>Not Good</td>\n",
       "      <td>3</td>\n",
       "      <td>23</td>\n",
       "      <td>34</td>\n",
       "      <td>23</td>\n",
       "      <td>34</td>\n",
       "      <td>Not Good</td>\n",
       "    </tr>\n",
       "    <tr>\n",
       "      <th>3</th>\n",
       "      <td>4</td>\n",
       "      <td>42</td>\n",
       "      <td>43</td>\n",
       "      <td>49</td>\n",
       "      <td>43</td>\n",
       "      <td>Good</td>\n",
       "      <td>4</td>\n",
       "      <td>42</td>\n",
       "      <td>43</td>\n",
       "      <td>49</td>\n",
       "      <td>43</td>\n",
       "      <td>Good</td>\n",
       "    </tr>\n",
       "    <tr>\n",
       "      <th>4</th>\n",
       "      <td>5</td>\n",
       "      <td>43</td>\n",
       "      <td>23</td>\n",
       "      <td>43</td>\n",
       "      <td>13</td>\n",
       "      <td>Good</td>\n",
       "      <td>5</td>\n",
       "      <td>43</td>\n",
       "      <td>23</td>\n",
       "      <td>43</td>\n",
       "      <td>13</td>\n",
       "      <td>Good</td>\n",
       "    </tr>\n",
       "    <tr>\n",
       "      <th>5</th>\n",
       "      <td>6</td>\n",
       "      <td>23</td>\n",
       "      <td>76</td>\n",
       "      <td>22</td>\n",
       "      <td>76</td>\n",
       "      <td>Not Good</td>\n",
       "      <td>6</td>\n",
       "      <td>23</td>\n",
       "      <td>76</td>\n",
       "      <td>22</td>\n",
       "      <td>76</td>\n",
       "      <td>Not Good</td>\n",
       "    </tr>\n",
       "    <tr>\n",
       "      <th>6</th>\n",
       "      <td>7</td>\n",
       "      <td>76</td>\n",
       "      <td>35</td>\n",
       "      <td>76</td>\n",
       "      <td>35</td>\n",
       "      <td>Good</td>\n",
       "      <td>7</td>\n",
       "      <td>76</td>\n",
       "      <td>35</td>\n",
       "      <td>76</td>\n",
       "      <td>35</td>\n",
       "      <td>Good</td>\n",
       "    </tr>\n",
       "    <tr>\n",
       "      <th>7</th>\n",
       "      <td>8</td>\n",
       "      <td>36</td>\n",
       "      <td>24</td>\n",
       "      <td>36</td>\n",
       "      <td>64</td>\n",
       "      <td>Good</td>\n",
       "      <td>8</td>\n",
       "      <td>36</td>\n",
       "      <td>24</td>\n",
       "      <td>36</td>\n",
       "      <td>64</td>\n",
       "      <td>Good</td>\n",
       "    </tr>\n",
       "    <tr>\n",
       "      <th>8</th>\n",
       "      <td>9</td>\n",
       "      <td>87</td>\n",
       "      <td>65</td>\n",
       "      <td>87</td>\n",
       "      <td>65</td>\n",
       "      <td>Good</td>\n",
       "      <td>9</td>\n",
       "      <td>87</td>\n",
       "      <td>65</td>\n",
       "      <td>87</td>\n",
       "      <td>65</td>\n",
       "      <td>Good</td>\n",
       "    </tr>\n",
       "  </tbody>\n",
       "</table>\n",
       "</div>"
      ],
      "text/plain": [
       "   No.  Jan  Fab  Mar  April Jan Remarks  No.  Jan  Fab  Mar  April  \\\n",
       "0    1   12   50   12     50    Not Good    1   12   50   12     50   \n",
       "1    2   45   28   41     28        Good    2   45   28   41     28   \n",
       "2    3   23   34   23     34    Not Good    3   23   34   23     34   \n",
       "3    4   42   43   49     43        Good    4   42   43   49     43   \n",
       "4    5   43   23   43     13        Good    5   43   23   43     13   \n",
       "5    6   23   76   22     76    Not Good    6   23   76   22     76   \n",
       "6    7   76   35   76     35        Good    7   76   35   76     35   \n",
       "7    8   36   24   36     64        Good    8   36   24   36     64   \n",
       "8    9   87   65   87     65        Good    9   87   65   87     65   \n",
       "\n",
       "  Jan Remarks  \n",
       "0    Not Good  \n",
       "1        Good  \n",
       "2    Not Good  \n",
       "3        Good  \n",
       "4        Good  \n",
       "5    Not Good  \n",
       "6        Good  \n",
       "7        Good  \n",
       "8        Good  "
      ]
     },
     "execution_count": 35,
     "metadata": {},
     "output_type": "execute_result"
    }
   ],
   "source": [
    "newDf"
   ]
  },
  {
   "cell_type": "markdown",
   "id": "c41ae934",
   "metadata": {},
   "source": [
    "> if you have to remove row from datafram which contains NaN value then,"
   ]
  },
  {
   "cell_type": "code",
   "execution_count": null,
   "id": "39a8d656",
   "metadata": {},
   "outputs": [],
   "source": [
    "df.dropna()"
   ]
  },
  {
   "cell_type": "markdown",
   "id": "b49fafd4",
   "metadata": {},
   "source": [
    "> if you have to remove column from datafram which contains NaN value then,"
   ]
  },
  {
   "cell_type": "code",
   "execution_count": null,
   "id": "a4b2b5dc",
   "metadata": {},
   "outputs": [],
   "source": [
    "df.dropna(axis=1)"
   ]
  },
  {
   "cell_type": "markdown",
   "id": "ea568ea4",
   "metadata": {},
   "source": [
    "> you can just replace NaN value by-"
   ]
  },
  {
   "cell_type": "code",
   "execution_count": null,
   "id": "f960c0e3",
   "metadata": {},
   "outputs": [],
   "source": [
    "df.fillna(0)"
   ]
  },
  {
   "cell_type": "code",
   "execution_count": null,
   "id": "ffdee424",
   "metadata": {},
   "outputs": [],
   "source": []
  }
 ],
 "metadata": {
  "kernelspec": {
   "display_name": "Python 3 (ipykernel)",
   "language": "python",
   "name": "python3"
  },
  "language_info": {
   "codemirror_mode": {
    "name": "ipython",
    "version": 3
   },
   "file_extension": ".py",
   "mimetype": "text/x-python",
   "name": "python",
   "nbconvert_exporter": "python",
   "pygments_lexer": "ipython3",
   "version": "3.10.9"
  }
 },
 "nbformat": 4,
 "nbformat_minor": 5
}

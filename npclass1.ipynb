{
 "cells": [
  {
   "cell_type": "code",
   "execution_count": 1,
   "id": "ce9cd991",
   "metadata": {},
   "outputs": [],
   "source": [
    "import numpy as np"
   ]
  },
  {
   "cell_type": "markdown",
   "id": "5a59ad43",
   "metadata": {},
   "source": [
    "> Create a Numpy Array from a list"
   ]
  },
  {
   "cell_type": "code",
   "execution_count": 2,
   "id": "a972eab6",
   "metadata": {},
   "outputs": [
    {
     "name": "stdout",
     "output_type": "stream",
     "text": [
      "[40 35 48]\n"
     ]
    },
    {
     "data": {
      "text/plain": [
       "array([ 8,  7, 24])"
      ]
     },
     "execution_count": 2,
     "metadata": {},
     "output_type": "execute_result"
    }
   ],
   "source": [
    "distance=[40,35,48]\n",
    "speed=[8,7,24]\n",
    "dis=np.array(distance)\n",
    "spd=np.array(speed)\n",
    "print(dis)\n",
    "spd"
   ]
  },
  {
   "cell_type": "markdown",
   "id": "daa08772",
   "metadata": {},
   "source": [
    "> Now these are precompiled numpy arrays, You can perform operations on them directly."
   ]
  },
  {
   "cell_type": "code",
   "execution_count": 3,
   "id": "d56e78e8",
   "metadata": {},
   "outputs": [],
   "source": [
    "Time=dis/spd"
   ]
  },
  {
   "cell_type": "code",
   "execution_count": 4,
   "id": "7d6dd421",
   "metadata": {},
   "outputs": [
    {
     "data": {
      "text/plain": [
       "array([5., 5., 2.])"
      ]
     },
     "execution_count": 4,
     "metadata": {},
     "output_type": "execute_result"
    }
   ],
   "source": [
    "Time"
   ]
  },
  {
   "cell_type": "markdown",
   "id": "762221e9",
   "metadata": {},
   "source": [
    "> You can also create Numpy array manually but To perform operations b/w two manually created array, dimensions should be same."
   ]
  },
  {
   "cell_type": "code",
   "execution_count": 5,
   "id": "ec11ec9f",
   "metadata": {},
   "outputs": [
    {
     "name": "stdout",
     "output_type": "stream",
     "text": [
      "[11 22 33 44 55]\n"
     ]
    }
   ],
   "source": [
    "a=np.array([1,2,3,4,5])\n",
    "b=np.array([10,20,30,40,50]) # same dimensions as a\n",
    "print(a+b)"
   ]
  },
  {
   "cell_type": "markdown",
   "id": "ab9b08aa",
   "metadata": {},
   "source": [
    "> To get range of numbers"
   ]
  },
  {
   "cell_type": "code",
   "execution_count": 6,
   "id": "b803977d",
   "metadata": {},
   "outputs": [
    {
     "data": {
      "text/plain": [
       "array([ 7, 14, 21, 28, 35, 42, 49, 56, 63, 70])"
      ]
     },
     "execution_count": 6,
     "metadata": {},
     "output_type": "execute_result"
    }
   ],
   "source": [
    "np.arange(7,74,7)      #start,end,gap"
   ]
  },
  {
   "cell_type": "markdown",
   "id": "e13497c9",
   "metadata": {},
   "source": [
    "> To get no. elements with same distance in a given range"
   ]
  },
  {
   "cell_type": "code",
   "execution_count": 7,
   "id": "95b59039",
   "metadata": {},
   "outputs": [
    {
     "data": {
      "text/plain": [
       "array([ 1.,  4.,  7., 10.])"
      ]
     },
     "execution_count": 7,
     "metadata": {},
     "output_type": "execute_result"
    }
   ],
   "source": [
    "np.linspace(1,10,4)"
   ]
  },
  {
   "cell_type": "markdown",
   "id": "4a5afb55",
   "metadata": {},
   "source": [
    "# Dimensions in Array"
   ]
  },
  {
   "cell_type": "markdown",
   "id": "4c8241c8",
   "metadata": {},
   "source": [
    "> Generally we have one dimensional array, we can change it's dimensions using numpy.reshape() function"
   ]
  },
  {
   "cell_type": "code",
   "execution_count": 8,
   "id": "75be9b78",
   "metadata": {},
   "outputs": [
    {
     "data": {
      "text/plain": [
       "array([  10,   45,  243,   53,   56,  357,   87,   46,   33,  733,   89,\n",
       "         44,   24,   24,   25,   75,   86, 2344,   24,  345,   65,   97,\n",
       "         97,   76,   97,   87,   97])"
      ]
     },
     "execution_count": 8,
     "metadata": {},
     "output_type": "execute_result"
    }
   ],
   "source": [
    "oneDList=[10,45,243,53,56,357,87,46,33,733,89,44,24,24,25,75,86,2344,24,345,65,97,97,76,97,87,97]\n",
    "#len(oneDList)\n",
    "oneDArray=np.array(oneDList)\n",
    "oneDArray"
   ]
  },
  {
   "cell_type": "code",
   "execution_count": 9,
   "id": "a0b503ee",
   "metadata": {},
   "outputs": [
    {
     "data": {
      "text/plain": [
       "array([[  10,   45,  243,   53,   56,  357,   87,   46,   33],\n",
       "       [ 733,   89,   44,   24,   24,   25,   75,   86, 2344],\n",
       "       [  24,  345,   65,   97,   97,   76,   97,   87,   97]])"
      ]
     },
     "execution_count": 9,
     "metadata": {},
     "output_type": "execute_result"
    }
   ],
   "source": [
    "twoDArray=oneDArray.reshape(3,9)   #2 Dimension\n",
    "twoDArray"
   ]
  },
  {
   "cell_type": "code",
   "execution_count": 10,
   "id": "1ee01d12",
   "metadata": {},
   "outputs": [
    {
     "data": {
      "text/plain": [
       "array([[[  10,   45,  243],\n",
       "        [  53,   56,  357],\n",
       "        [  87,   46,   33]],\n",
       "\n",
       "       [[ 733,   89,   44],\n",
       "        [  24,   24,   25],\n",
       "        [  75,   86, 2344]],\n",
       "\n",
       "       [[  24,  345,   65],\n",
       "        [  97,   97,   76],\n",
       "        [  97,   87,   97]]])"
      ]
     },
     "execution_count": 10,
     "metadata": {},
     "output_type": "execute_result"
    }
   ],
   "source": [
    "oneDArray.reshape(3,3,3)   #3 Dimension"
   ]
  },
  {
   "cell_type": "markdown",
   "id": "b7000442",
   "metadata": {},
   "source": [
    "To convert any multidimensional array to oneD array"
   ]
  },
  {
   "cell_type": "code",
   "execution_count": 11,
   "id": "118bb58a",
   "metadata": {},
   "outputs": [
    {
     "data": {
      "text/plain": [
       "(27,)"
      ]
     },
     "execution_count": 11,
     "metadata": {},
     "output_type": "execute_result"
    }
   ],
   "source": [
    "from2DArrayTo1DArray=twoDArray.ravel()  #ravel() function\n",
    "from2DArrayTo1DArray.shape"
   ]
  },
  {
   "cell_type": "markdown",
   "id": "f68b715f",
   "metadata": {},
   "source": [
    "> Filter Elements of an Array"
   ]
  },
  {
   "cell_type": "code",
   "execution_count": 12,
   "id": "6eb7d401",
   "metadata": {},
   "outputs": [
    {
     "data": {
      "text/plain": [
       "array([False,  True,  True, False, False,  True,  True, False,  True,\n",
       "       False, False, False,  True,  True, False,  True, False, False,\n",
       "        True,  True, False, False, False, False, False,  True, False])"
      ]
     },
     "execution_count": 12,
     "metadata": {},
     "output_type": "execute_result"
    }
   ],
   "source": [
    "divisibleBy3=oneDArray%3==0\n",
    "divisibleBy3"
   ]
  },
  {
   "cell_type": "code",
   "execution_count": 13,
   "id": "635595c4",
   "metadata": {},
   "outputs": [
    {
     "data": {
      "text/plain": [
       "array([ 45, 243, 357,  87,  33,  24,  24,  75,  24, 345,  87])"
      ]
     },
     "execution_count": 13,
     "metadata": {},
     "output_type": "execute_result"
    }
   ],
   "source": [
    "oneDArray[divisibleBy3]"
   ]
  },
  {
   "cell_type": "markdown",
   "id": "538c6974",
   "metadata": {},
   "source": [
    "> Array of 0 or 1"
   ]
  },
  {
   "cell_type": "code",
   "execution_count": 14,
   "id": "8d9f9ec9",
   "metadata": {},
   "outputs": [
    {
     "data": {
      "text/plain": [
       "array([[0., 0., 0., 0., 0.],\n",
       "       [0., 0., 0., 0., 0.],\n",
       "       [0., 0., 0., 0., 0.],\n",
       "       [0., 0., 0., 0., 0.]])"
      ]
     },
     "execution_count": 14,
     "metadata": {},
     "output_type": "execute_result"
    }
   ],
   "source": [
    "zeroArray=np.zeros((4,5))\n",
    "zeroArray"
   ]
  },
  {
   "cell_type": "code",
   "execution_count": 15,
   "id": "0cc24101",
   "metadata": {},
   "outputs": [
    {
     "data": {
      "text/plain": [
       "array([[6., 6., 6., 6., 6.],\n",
       "       [6., 6., 6., 6., 6.],\n",
       "       [6., 6., 6., 6., 6.],\n",
       "       [6., 6., 6., 6., 6.]])"
      ]
     },
     "execution_count": 15,
     "metadata": {},
     "output_type": "execute_result"
    }
   ],
   "source": [
    "zeroArray=np.zeros((4,5))+6\n",
    "zeroArray"
   ]
  },
  {
   "cell_type": "code",
   "execution_count": 16,
   "id": "ac6b5e4c",
   "metadata": {},
   "outputs": [
    {
     "data": {
      "text/plain": [
       "array([[[1., 1.],\n",
       "        [1., 1.],\n",
       "        [1., 1.],\n",
       "        [1., 1.]],\n",
       "\n",
       "       [[1., 1.],\n",
       "        [1., 1.],\n",
       "        [1., 1.],\n",
       "        [1., 1.]]])"
      ]
     },
     "execution_count": 16,
     "metadata": {},
     "output_type": "execute_result"
    }
   ],
   "source": [
    "oneArray=np.ones((2,4,2))\n",
    "oneArray"
   ]
  },
  {
   "cell_type": "markdown",
   "id": "320ad8c9",
   "metadata": {},
   "source": [
    "> To create an Identity Matrix"
   ]
  },
  {
   "cell_type": "code",
   "execution_count": 17,
   "id": "910798a6",
   "metadata": {},
   "outputs": [
    {
     "data": {
      "text/plain": [
       "array([[1., 0., 0.],\n",
       "       [0., 1., 0.],\n",
       "       [0., 0., 1.]])"
      ]
     },
     "execution_count": 17,
     "metadata": {},
     "output_type": "execute_result"
    }
   ],
   "source": [
    "np.eye(3) # 3X3 identity Matrix"
   ]
  },
  {
   "cell_type": "markdown",
   "id": "fde26a87",
   "metadata": {},
   "source": [
    "> You can add custom element at the diagonal of array"
   ]
  },
  {
   "cell_type": "code",
   "execution_count": 18,
   "id": "8ded787f",
   "metadata": {},
   "outputs": [
    {
     "data": {
      "text/plain": [
       "array([[1, 0, 0, 0, 0],\n",
       "       [0, 2, 0, 0, 0],\n",
       "       [0, 0, 3, 0, 0],\n",
       "       [0, 0, 0, 4, 0],\n",
       "       [0, 0, 0, 0, 5]])"
      ]
     },
     "execution_count": 18,
     "metadata": {},
     "output_type": "execute_result"
    }
   ],
   "source": [
    "np.diag([1,2,3,4,5])"
   ]
  },
  {
   "cell_type": "markdown",
   "id": "403d2fcc",
   "metadata": {},
   "source": [
    "To know the dimensions of any numpy array"
   ]
  },
  {
   "cell_type": "code",
   "execution_count": 19,
   "id": "1388083d",
   "metadata": {},
   "outputs": [
    {
     "data": {
      "text/plain": [
       "2"
      ]
     },
     "execution_count": 19,
     "metadata": {},
     "output_type": "execute_result"
    }
   ],
   "source": [
    "twoDArray.ndim"
   ]
  },
  {
   "cell_type": "code",
   "execution_count": 20,
   "id": "e402ec15",
   "metadata": {},
   "outputs": [
    {
     "data": {
      "text/plain": [
       "1"
      ]
     },
     "execution_count": 20,
     "metadata": {},
     "output_type": "execute_result"
    }
   ],
   "source": [
    "oneDArray.ndim"
   ]
  },
  {
   "cell_type": "markdown",
   "id": "25f8f6e8",
   "metadata": {},
   "source": [
    "To know total number of elements in numpy array"
   ]
  },
  {
   "cell_type": "code",
   "execution_count": 21,
   "id": "26ca0ca7",
   "metadata": {},
   "outputs": [
    {
     "data": {
      "text/plain": [
       "27"
      ]
     },
     "execution_count": 21,
     "metadata": {},
     "output_type": "execute_result"
    }
   ],
   "source": [
    "oneDArray.size"
   ]
  },
  {
   "cell_type": "code",
   "execution_count": 22,
   "id": "589f7900",
   "metadata": {},
   "outputs": [
    {
     "data": {
      "text/plain": [
       "27"
      ]
     },
     "execution_count": 22,
     "metadata": {},
     "output_type": "execute_result"
    }
   ],
   "source": [
    "twoDArray.size"
   ]
  },
  {
   "cell_type": "markdown",
   "id": "8b0107bd",
   "metadata": {},
   "source": [
    "To know datatype of numpy array"
   ]
  },
  {
   "cell_type": "code",
   "execution_count": 23,
   "id": "18440006",
   "metadata": {},
   "outputs": [
    {
     "data": {
      "text/plain": [
       "dtype('int32')"
      ]
     },
     "execution_count": 23,
     "metadata": {},
     "output_type": "execute_result"
    }
   ],
   "source": [
    "twoDArray.dtype"
   ]
  },
  {
   "cell_type": "markdown",
   "id": "46e57640",
   "metadata": {},
   "source": [
    "# Some other functions"
   ]
  },
  {
   "cell_type": "code",
   "execution_count": 24,
   "id": "0df0da8a",
   "metadata": {},
   "outputs": [
    {
     "data": {
      "text/plain": [
       "1"
      ]
     },
     "execution_count": 24,
     "metadata": {},
     "output_type": "execute_result"
    }
   ],
   "source": [
    "a.min()"
   ]
  },
  {
   "cell_type": "code",
   "execution_count": 25,
   "id": "d6acf53e",
   "metadata": {},
   "outputs": [
    {
     "data": {
      "text/plain": [
       "5"
      ]
     },
     "execution_count": 25,
     "metadata": {},
     "output_type": "execute_result"
    }
   ],
   "source": [
    "a.max()"
   ]
  },
  {
   "cell_type": "code",
   "execution_count": 26,
   "id": "ee3aafcb",
   "metadata": {},
   "outputs": [
    {
     "data": {
      "text/plain": [
       "15"
      ]
     },
     "execution_count": 26,
     "metadata": {},
     "output_type": "execute_result"
    }
   ],
   "source": [
    "a.sum()"
   ]
  },
  {
   "cell_type": "code",
   "execution_count": 27,
   "id": "41742751",
   "metadata": {},
   "outputs": [
    {
     "data": {
      "text/plain": [
       "array([1.        , 1.41421356, 1.73205081, 2.        , 2.23606798])"
      ]
     },
     "execution_count": 27,
     "metadata": {},
     "output_type": "execute_result"
    }
   ],
   "source": [
    "np.sqrt(a)"
   ]
  },
  {
   "cell_type": "code",
   "execution_count": 28,
   "id": "4a6cefe1",
   "metadata": {},
   "outputs": [
    {
     "data": {
      "text/plain": [
       "5359"
      ]
     },
     "execution_count": 28,
     "metadata": {},
     "output_type": "execute_result"
    }
   ],
   "source": [
    "twoDArray.sum()  # Will sum vertical elements"
   ]
  },
  {
   "cell_type": "code",
   "execution_count": 29,
   "id": "79466aa8",
   "metadata": {},
   "outputs": [
    {
     "data": {
      "text/plain": [
       "array([ 930, 3444,  985])"
      ]
     },
     "execution_count": 29,
     "metadata": {},
     "output_type": "execute_result"
    }
   ],
   "source": [
    "twoDArray.sum(axis=1)  # Will sum horizontal elements"
   ]
  },
  {
   "cell_type": "markdown",
   "id": "01940d88",
   "metadata": {},
   "source": [
    "Multiplication of two Matrices"
   ]
  },
  {
   "cell_type": "code",
   "execution_count": 30,
   "id": "719bec3c",
   "metadata": {},
   "outputs": [],
   "source": [
    "twoDArr1=np.array([[1,2],[3,4]])\n",
    "twoDArr2=np.array([[4,8],[9,2]])"
   ]
  },
  {
   "cell_type": "code",
   "execution_count": 31,
   "id": "0f979b3c",
   "metadata": {},
   "outputs": [
    {
     "data": {
      "text/plain": [
       "array([[22, 12],\n",
       "       [48, 32]])"
      ]
     },
     "execution_count": 31,
     "metadata": {},
     "output_type": "execute_result"
    }
   ],
   "source": [
    "twoDArr1.dot(twoDArr2)"
   ]
  },
  {
   "cell_type": "code",
   "execution_count": null,
   "id": "833ff19a",
   "metadata": {},
   "outputs": [],
   "source": []
  }
 ],
 "metadata": {
  "kernelspec": {
   "display_name": "Python 3 (ipykernel)",
   "language": "python",
   "name": "python3"
  },
  "language_info": {
   "codemirror_mode": {
    "name": "ipython",
    "version": 3
   },
   "file_extension": ".py",
   "mimetype": "text/x-python",
   "name": "python",
   "nbconvert_exporter": "python",
   "pygments_lexer": "ipython3",
   "version": "3.10.9"
  }
 },
 "nbformat": 4,
 "nbformat_minor": 5
}
